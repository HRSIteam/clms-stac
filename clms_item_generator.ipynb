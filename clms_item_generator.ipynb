{
 "cells": [
  {
   "cell_type": "code",
   "execution_count": 1,
   "metadata": {},
   "outputs": [],
   "source": [
    "import os\n",
    "import re\n",
    "\n",
    "import pystac\n",
    "from pystac.extensions.projection import ProjectionExtension\n",
    "import pystac.item\n",
    "from pystac.provider import ProviderRole\n",
    "\n",
    "from pyproj import Transformer\n",
    "from shapely.geometry import GeometryCollection, box, shape, mapping\n",
    "from datetime import datetime, UTC\n",
    "\n",
    "import rasterio as rio\n",
    "import rasterio.warp\n",
    "import rasterio.crs\n",
    "\n",
    "import xml.etree.cElementTree as ET\n",
    "from xml.dom import minidom"
   ]
  },
  {
   "cell_type": "code",
   "execution_count": 43,
   "metadata": {},
   "outputs": [],
   "source": [
    "img_path = 'X:/EO/u2018_clc2012_v2020_20u1_raster100m/DATA/U2018_CLC2012_V2020_20u1.tif'\n",
    "# os.path.split(img_path)"
   ]
  },
  {
   "cell_type": "code",
   "execution_count": 33,
   "metadata": {},
   "outputs": [],
   "source": [
    "def deconstruct_clc_name(filename: str):\n",
    "    id = os.path.basename(filename).split('.')[0]\n",
    "    p = re.compile((\"U(?P<update_campaign>[0-9]{4})_\"\n",
    "                    \"(?P<theme>CLC|CHA)(?P<reference_year>[0-9]{4})_\"\n",
    "                    \"V(?P<release_year>[0-9]{4})_(?P<release_number>[0-9a-z]*)\"\n",
    "                    \"_?(?P<country_code>[A-Z]*)?\"\n",
    "                    \"_?(?P<DOM_code>[A-Z]*)?\"))\n",
    "    m = p.search(id)\n",
    "\n",
    "    return(m.groupdict())\n",
    "\n",
    "DOM_DICT = {\n",
    "    'GLP': 'Guadeloupe',\n",
    "    'GUF': 'French Guyana',\n",
    "    'MTQ': 'Martinique',\n",
    "    'MYT': 'Mayotte',\n",
    "    'REU': 'Réunion',\n",
    "    '': 'Europe',\n",
    "}\n"
   ]
  },
  {
   "cell_type": "code",
   "execution_count": 41,
   "metadata": {},
   "outputs": [],
   "source": [
    "# label = DOM_DICT.get('')\n",
    "\n",
    "def create_asset(filename: str, label: str):\n",
    "\n",
    "    MEDIA_TYPE_DICT = {\n",
    "        'tif': pystac.MediaType.COG,\n",
    "        'tif_xml': pystac.MediaType.XML,\n",
    "        'tif_ovr': 'image/tiff; application=geotiff; profile=pyramid',\n",
    "        'vat_cpg': pystac.MediaType.TEXT,\n",
    "        'vat_dbf': 'application/dbf',\n",
    "        'txt': pystac.MediaType.TEXT,\n",
    "        'lyr': 'image/tiff; application=geotiff; profile=layer',\n",
    "    }\n",
    "\n",
    "\n",
    "    TITLE_DICT = {\n",
    "        'tif': f'Single Band Land Classification {label}',\n",
    "        'tif_xml': f'TIFF Metadata {label}',\n",
    "        'tif_ovr': f'Pyramid {label}',\n",
    "        'vat_cpg': f'Encoding {label}',\n",
    "        'vat_dbf': f'Database {label}',\n",
    "        'txt': f'Legends {label}',\n",
    "        'lyr': f'LEgend Layer {label}',\n",
    "    }\n",
    "\n",
    "    ROLES_DICT = {\n",
    "        'tif': ['data', 'visual'],\n",
    "        'tif_xml': ['metadata'],\n",
    "        'tif_ovr': ['metadata'],\n",
    "        'vat_cpg': ['metadata'],\n",
    "        'vat_dbf': ['metadata'],\n",
    "        'txt': ['metadata'],\n",
    "        'lyr': ['metadata'],\n",
    "    }"
   ]
  },
  {
   "cell_type": "code",
   "execution_count": 38,
   "metadata": {},
   "outputs": [
    {
     "data": {
      "text/plain": [
       "'Single Band Land Classification Europe'"
      ]
     },
     "execution_count": 38,
     "metadata": {},
     "output_type": "execute_result"
    }
   ],
   "source": []
  },
  {
   "cell_type": "code",
   "execution_count": 4,
   "metadata": {},
   "outputs": [
    {
     "data": {
      "text/plain": [
       "'2012'"
      ]
     },
     "execution_count": 4,
     "metadata": {},
     "output_type": "execute_result"
    }
   ],
   "source": [
    "file_metadata = deconstruct_clc_name(img_path)\n",
    "\n",
    "year = file_metadata.get('reference_year')\n",
    "year"
   ]
  },
  {
   "cell_type": "code",
   "execution_count": 29,
   "metadata": {},
   "outputs": [],
   "source": [
    "def get_tif_files(path: str):    \n",
    "    tif_files=[]\n",
    "    for root, dirs, files in os.walk(path):\n",
    "        if root.endswith(('DATA', 'French_DOMs')):\n",
    "            for file in files:\n",
    "                if file.endswith('.tif'):\n",
    "                    tif_files.append(os.path.join(root, file))\n",
    "\n",
    "    return(tif_files)\n",
    "\n",
    "\n",
    "def extract_clc_name(path: str):\n",
    "    clc_name = os.path.basename(path).split('.')[0]\n",
    "    return(clc_name)\n"
   ]
  },
  {
   "cell_type": "code",
   "execution_count": 97,
   "metadata": {},
   "outputs": [
    {
     "data": {
      "text/plain": [
       "['U2018_CLC2012_V2020_20u1',\n",
       " 'U2018_CLC2012_V2020_20u1_FR_GLP',\n",
       " 'U2018_CLC2012_V2020_20u1_FR_GUF',\n",
       " 'U2018_CLC2012_V2020_20u1_FR_MTQ',\n",
       " 'U2018_CLC2012_V2020_20u1_FR_MYT',\n",
       " 'U2018_CLC2012_V2020_20u1_FR_REU']"
      ]
     },
     "execution_count": 97,
     "metadata": {},
     "output_type": "execute_result"
    }
   ],
   "source": [
    "root = 'X:/EO/u2018_clc2012_v2020_20u1_raster100m'\n",
    "\n",
    "tif_files = get_tif_files(path=root)\n",
    "clc_names = [extract_clc_name(f) for f in tif_files]\n",
    "clc_names"
   ]
  },
  {
   "cell_type": "code",
   "execution_count": 108,
   "metadata": {},
   "outputs": [],
   "source": [
    "def get_asset_files(path, clc_name):\n",
    "\n",
    "    clc_name_elements = deconstruct_clc_name(clc_name)\n",
    "\n",
    "    # clc_pattern = ('U{update_campaign}_{theme}{reference_year}_V{release_year}_'.format(**clc_name_elements),\n",
    "    #                clc_name_elements['release_number'][:2] + '[0-9a-z]{0,2}',\n",
    "    #                '_?({})'\n",
    "\n",
    "    if clc_name_elements['DOM_code']:\n",
    "        allowed_dirs = ['DATA', 'French_DOMs', 'Metadata']\n",
    "    else:\n",
    "        allowed_dirs = ['DATA', 'Legend', 'Metadata']\n",
    "    \n",
    "    print(allowed_dirs)\n",
    "\n",
    "    asset_files = []\n",
    "    \n",
    "    for root, dirs, files in os.walk(path, topdown=True):\n",
    "        [dirs.remove(d) for d in list(dirs) if d not in allowed_dirs]\n",
    "        for file in files:\n",
    "            if file.startswith(clc_name + '.') or file.endswith(('.lyr', 'QGIS.txt',)):\n",
    "                asset_files.append(os.path.join(root, file))\n",
    "\n",
    "    return(asset_files)\n",
    " \n",
    "\n",
    "    with os.scandir(path) as it:\n",
    "        for entry in it:\n",
    "            if entry.is_file() and entry.name.startswith(clc_name) and not entry.name.endswith('.tif'):\n",
    "                asset_files.append(entry.name)\n",
    "    \n",
    "    tif_file_assets.append(asset_files)"
   ]
  },
  {
   "cell_type": "code",
   "execution_count": 109,
   "metadata": {},
   "outputs": [
    {
     "name": "stdout",
     "output_type": "stream",
     "text": [
      "['DATA', 'Legend', 'Metadata']\n"
     ]
    },
    {
     "data": {
      "text/plain": [
       "['X:/EO/u2018_clc2012_v2020_20u1_raster100m\\\\DATA\\\\U2018_CLC2012_V2020_20u1.tfw',\n",
       " 'X:/EO/u2018_clc2012_v2020_20u1_raster100m\\\\DATA\\\\U2018_CLC2012_V2020_20u1.tif',\n",
       " 'X:/EO/u2018_clc2012_v2020_20u1_raster100m\\\\DATA\\\\U2018_CLC2012_V2020_20u1.tif.aux.xml',\n",
       " 'X:/EO/u2018_clc2012_v2020_20u1_raster100m\\\\DATA\\\\U2018_CLC2012_V2020_20u1.tif.ovr',\n",
       " 'X:/EO/u2018_clc2012_v2020_20u1_raster100m\\\\DATA\\\\U2018_CLC2012_V2020_20u1.tif.vat.cpg',\n",
       " 'X:/EO/u2018_clc2012_v2020_20u1_raster100m\\\\DATA\\\\U2018_CLC2012_V2020_20u1.tif.vat.dbf',\n",
       " 'X:/EO/u2018_clc2012_v2020_20u1_raster100m\\\\DATA\\\\U2018_CLC2012_V2020_20u1.tif.xml',\n",
       " 'X:/EO/u2018_clc2012_v2020_20u1_raster100m\\\\Legend\\\\CLC2018_CLC2012_V2018_20.tif.lyr',\n",
       " 'X:/EO/u2018_clc2012_v2020_20u1_raster100m\\\\Legend\\\\CLC2018_CLC2012_V2018_20_QGIS.txt',\n",
       " 'X:/EO/u2018_clc2012_v2020_20u1_raster100m\\\\Metadata\\\\U2018_CLC2012_V2020_20u1.xml']"
      ]
     },
     "execution_count": 109,
     "metadata": {},
     "output_type": "execute_result"
    }
   ],
   "source": [
    "# 'bo' in ['bi', 'ba', 'bo']\n",
    "# tif_file_assets[3]\n",
    "get_asset_files(root, clc_name=clc_names[0])"
   ]
  },
  {
   "cell_type": "code",
   "execution_count": 5,
   "metadata": {},
   "outputs": [],
   "source": [
    "\n",
    "\n",
    "CLC_PROVIDER = pystac.Provider(\n",
    "    name='Copernicus Land Monitoring Service',\n",
    "    description=('The Copernicus Land Monitoring Service provides '\n",
    "                 'geographical information on land cover and its '\n",
    "                 'changes, land use, ground motions, vegetation state, '\n",
    "                 'water cycle and Earth\\'s surface energy variables to '\n",
    "                 'a broad range of users in Europe and across the World '\n",
    "                 'in the field of environmental terrestrial applications.'),\n",
    "    roles=[ProviderRole.LICENSOR, ProviderRole.HOST],\n",
    "    url= 'https://land.copernicus.eu'\n",
    ")\n",
    "\n",
    "props = {'description': (f'Corine Land Cover {year} (CLC{year}) is one of the Corine Land Cover (CLC) ' \n",
    "                         f'datasets produced within the frame the Copernicus Land Monitoring Service '\n",
    "                         f'referring to land cover / land use status of year {year}. '\n",
    "                         f'CLC service has a long-time heritage (formerly known as \\\"CORINE Land Cover Programme\\\"), '\n",
    "                         f'coordinated by the European Environment Agency (EEA). It provides consistent '\n",
    "                         f'and thematically detailed information on land cover and land cover changes across Europe. '\n",
    "                         f'CLC datasets are based on the classification of satellite images produced by the national '\n",
    "                         f'teams of the participating countries - the EEA members and cooperating countries (EEA39). '\n",
    "                         f'National CLC inventories are then further integrated into a seamless land cover map of Europe. '\n",
    "                         f'The resulting European database relies on standard methodology and nomenclature with following '\n",
    "                         f'base parameters: 44 classes in the hierarchical 3-level CLC nomenclature; '\n",
    "                         f'minimum mapping unit (MMU) for status layers is 25 hectares; '\n",
    "                         f'minimum width of linear elements is 100 metres. '\n",
    "                         f'Change layers have higher resolution, i.e. minimum mapping unit (MMU) is 5 hectares '\n",
    "                         f'for Land Cover Changes (LCC), and the minimum width of linear elements is 100 metres. '\n",
    "                         f'The CLC service delivers important data sets supporting the implementation of key priority '\n",
    "                         f'areas of the Environment Action Programmes of the European Union as e.g. protecting ecosystems, '\n",
    "                         f'halting the loss of biological diversity, tracking the impacts of climate change, '\n",
    "                         f'monitoring urban land take, assessing developments in agriculture or dealing with '\n",
    "                         f'water resources directives. CLC belongs to the Pan-European component of the '\n",
    "                         f'Copernicus Land Monitoring Service (https://land.copernicus.eu/), part of the '\n",
    "                         f'European Copernicus Programme coordinated by the European Environment Agency, '\n",
    "                         f'providing environmental information from a combination of air- and space-based observation '\n",
    "                         f'systems and in-situ monitoring. Additional information about CLC product description including '\n",
    "                         f'mapping guides can be found at https://land.copernicus.eu/user-corner/technical-library/. '\n",
    "                         f'CLC class descriptions can be found at '\n",
    "                         f'https://land.copernicus.eu/user-corner/technical-library/corine-land-cover-nomenclature-guidelines/html/.'),\n",
    "         'created': None,\n",
    "         'providers': CLC_PROVIDER\n",
    "}\n",
    "\n",
    "\n",
    "\n",
    "with rio.open(img_path) as img:\n",
    "\n",
    "    bbox = rio.warp.transform_bounds(img.crs, rio.crs.CRS.from_epsg(4326), *img.bounds)\n",
    "    params = {\n",
    "        'id': id,\n",
    "        'bbox': bbox,\n",
    "        'geometry': mapping(box(*bbox)),\n",
    "        'datetime': None,\n",
    "        'start_datetime': datetime(int(year), 1, 1, microsecond=0, tzinfo=UTC),\n",
    "        'end_datetime': datetime(int(year), 12, 31, microsecond=0, tzinfo=UTC),\n",
    "        'properties': props,\n",
    "    }\n",
    "\n",
    "item = pystac.Item(**params)\n",
    "\n",
    "item.add_asset(\n",
    "    key='image',\n",
    "    asset=pystac.Asset(href=img_path, title='Geotiff', media_type=pystac.MediaType.GEOTIFF),\n",
    ")\n"
   ]
  },
  {
   "cell_type": "code",
   "execution_count": 42,
   "metadata": {},
   "outputs": [],
   "source": [
    "from pystac.extensions.projection import ProjectionExtension\n",
    "import pystac.link\n",
    "\n",
    "proj_ext = ProjectionExtension.ext(item.assets['image'], add_if_missing=True)\n",
    "\n",
    "proj_ext.apply(epsg=rio.crs.CRS(img.crs).to_epsg(),\n",
    "               bbox=img.bounds,\n",
    "               shape=[_ for _ in img.shape],\n",
    "               transform=[_ for _ in img.transform] + [0.0, 0.0, 1.0],\n",
    "               )\n",
    "\n",
    "license = pystac.link.Link(rel='LICENSE', target=\"https://land.copernicus.eu/en/data-policy\")\n",
    "item.add_link(license)\n"
   ]
  },
  {
   "cell_type": "code",
   "execution_count": 43,
   "metadata": {},
   "outputs": [],
   "source": [
    "item.save_object(dest_href='testY.json')"
   ]
  },
  {
   "cell_type": "code",
   "execution_count": 28,
   "metadata": {},
   "outputs": [
    {
     "data": {
      "text/plain": [
       "datetime.datetime(2012, 1, 1, 0, 0)"
      ]
     },
     "execution_count": 28,
     "metadata": {},
     "output_type": "execute_result"
    }
   ],
   "source": [
    "datetime(int(year), 1, 1, microsecond=0)"
   ]
  },
  {
   "cell_type": "code",
   "execution_count": 17,
   "metadata": {},
   "outputs": [],
   "source": [
    "# Taken from https://stackoverflow.com/questions/2148119/how-to-convert-an-xml-string-to-a-dictionary\n",
    "from xml.etree import cElementTree as ElementTree\n",
    "\n",
    "\n",
    "class XmlListConfig(list):\n",
    "    def __init__(self, aList):\n",
    "        for element in aList:\n",
    "            if element:\n",
    "                if len(element) == 1 or element[0].tag != element[1].tag:\n",
    "                    self.append(XmlDictConfig(element))\n",
    "                elif element[0].tag == element[1].tag:\n",
    "                    self.append(XmlListConfig(element))\n",
    "            elif element.text:\n",
    "                text = element.text.strip()\n",
    "                if text:\n",
    "                    self.append(text)\n",
    "\n",
    "\n",
    "class XmlDictConfig(dict):\n",
    "    def __init__(self, parent_element):\n",
    "        if parent_element.items():\n",
    "            self.update(dict(parent_element.items()))\n",
    "        for element in parent_element:\n",
    "            if element:\n",
    "                if len(element) == 1 or element[0].tag != element[1].tag:\n",
    "                    aDict = XmlDictConfig(element)\n",
    "                else:\n",
    "                    aDict = {element[0].tag: XmlListConfig(element)}\n",
    "                if element.items():\n",
    "                    aDict.update(dict(element.items()))\n",
    "                self.update({element.tag: aDict})\n",
    "            elif element.items():\n",
    "                self.update({element.tag: dict(element.items())})\n",
    "            else:\n",
    "                self.update({element.tag: element.text})\n",
    "\n",
    "stac_io = pystac.StacIO.default()\n",
    "\n",
    "def get_metadata(xml: str):\n",
    "    result = XmlDictConfig(ElementTree.XML(stac_io.read_text(xml)))\n",
    "    result[\n",
    "        \"ORIGINAL_URL\"\n",
    "    ] = xml  # Include the original URL in the metadata for use later\n",
    "    return result"
   ]
  },
  {
   "cell_type": "code",
   "execution_count": 18,
   "metadata": {},
   "outputs": [
    {
     "data": {
      "text/plain": [
       "{'{http://www.w3.org/2001/XMLSchema-instance}schemaLocation': 'http://www.isotc211.org/2005/gmd http://schemas.opengis.net/csw/2.0.2/profiles/apiso/1.0.0/apiso.xsd',\n",
       " '{http://www.isotc211.org/2005/gmd}fileIdentifier': {'{http://www.isotc211.org/2005/gco}CharacterString': '7e162b2d-5196-41b2-b6dd-e889651e2f1f'},\n",
       " '{http://www.isotc211.org/2005/gmd}language': {'{http://www.isotc211.org/2005/gmd}LanguageCode': {'codeList': 'http://www.loc.gov/standards/iso639-2/',\n",
       "   'codeListValue': 'eng'}},\n",
       " '{http://www.isotc211.org/2005/gmd}characterSet': {'{http://www.isotc211.org/2005/gmd}MD_CharacterSetCode': {'codeList': 'http://standards.iso.org/iso/19139/resources/gmxCodelists.xml#MD_CharacterSetCode',\n",
       "   'codeListValue': 'utf8'}},\n",
       " '{http://www.isotc211.org/2005/gmd}hierarchyLevel': {'{http://www.isotc211.org/2005/gmd}MD_ScopeCode': {'codeList': 'http://standards.iso.org/iso/19139/resources/gmxCodelists.xml#MD_ScopeCode',\n",
       "   'codeListValue': 'dataset'}},\n",
       " '{http://www.isotc211.org/2005/gmd}contact': {'{http://www.isotc211.org/2005/gmd}CI_ResponsibleParty': {'{http://www.isotc211.org/2005/gmd}organisationName': {'{http://www.isotc211.org/2005/gco}CharacterString': 'European Environment Agency'},\n",
       "   '{http://www.isotc211.org/2005/gmd}contactInfo': {'{http://www.isotc211.org/2005/gmd}CI_Contact': {'{http://www.isotc211.org/2005/gmd}address': {'{http://www.isotc211.org/2005/gmd}CI_Address': {'{http://www.isotc211.org/2005/gmd}deliveryPoint': {'{http://www.isotc211.org/2005/gco}CharacterString': 'Kongens Nytorv 6'},\n",
       "       '{http://www.isotc211.org/2005/gmd}city': {'{http://www.isotc211.org/2005/gco}CharacterString': 'Copenhagen'},\n",
       "       '{http://www.isotc211.org/2005/gmd}administrativeArea': {'{http://www.isotc211.org/2005/gco}CharacterString': 'K'},\n",
       "       '{http://www.isotc211.org/2005/gmd}postalCode': {'{http://www.isotc211.org/2005/gco}CharacterString': '1050'},\n",
       "       '{http://www.isotc211.org/2005/gmd}country': {'{http://www.isotc211.org/2005/gco}CharacterString': 'Denmark'},\n",
       "       '{http://www.isotc211.org/2005/gmd}electronicMailAddress': {'{http://www.isotc211.org/2005/gco}CharacterString': 'sdi@eea.europa.eu'}}}}},\n",
       "   '{http://www.isotc211.org/2005/gmd}role': {'{http://www.isotc211.org/2005/gmd}CI_RoleCode': {'codeList': 'http://standards.iso.org/iso/19139/resources/gmxCodelists.xml#CI_RoleCode',\n",
       "     'codeListValue': 'pointOfContact'}}}},\n",
       " '{http://www.isotc211.org/2005/gmd}dateStamp': {'{http://www.isotc211.org/2005/gco}DateTime': '2019-12-18T22:18:54'},\n",
       " '{http://www.isotc211.org/2005/gmd}metadataStandardName': {'{http://www.isotc211.org/2005/gco}CharacterString': 'ISO 19115:2003/19139'},\n",
       " '{http://www.isotc211.org/2005/gmd}metadataStandardVersion': {'{http://www.isotc211.org/2005/gco}CharacterString': '1.0'},\n",
       " '{http://www.isotc211.org/2005/gmd}referenceSystemInfo': {'{http://www.isotc211.org/2005/gmd}MD_ReferenceSystem': {'{http://www.isotc211.org/2005/gmd}referenceSystemIdentifier': {'{http://www.isotc211.org/2005/gmd}RS_Identifier': {'{http://www.isotc211.org/2005/gmd}code': {'{http://www.isotc211.org/2005/gmx}Anchor': {'{http://www.w3.org/1999/xlink}href': 'http://www.opengis.net/def/crs/EPSG/0/3035'}}}}}},\n",
       " '{http://www.isotc211.org/2005/gmd}identificationInfo': {'{http://www.isotc211.org/2005/gmd}MD_DataIdentification': {'{http://www.isotc211.org/2005/gmd}citation': {'{http://www.isotc211.org/2005/gmd}CI_Citation': {'{http://www.isotc211.org/2005/gmd}title': {'{http://www.isotc211.org/2005/gco}CharacterString': 'Corine Land Cover (CLC) 2018, Version 2020 20_1'},\n",
       "     '{http://www.isotc211.org/2005/gmd}date': {'{http://www.isotc211.org/2005/gmd}CI_Date': {'{http://www.isotc211.org/2005/gmd}date': {'{http://www.isotc211.org/2005/gco}Date': '2020-02-24'},\n",
       "       '{http://www.isotc211.org/2005/gmd}dateType': {'{http://www.isotc211.org/2005/gmd}CI_DateTypeCode': {'codeList': 'http://standards.iso.org/iso/19139/resources/gmxCodelists.xml#CI_DateTypeCode',\n",
       "         'codeListValue': 'publication'}}}},\n",
       "     '{http://www.isotc211.org/2005/gmd}edition': {'{http://www.isotc211.org/2005/gco}CharacterString': '20_1'},\n",
       "     '{http://www.isotc211.org/2005/gmd}identifier': {'{http://www.isotc211.org/2005/gmd}MD_Identifier': {'{http://www.isotc211.org/2005/gmd}code': {'{http://www.isotc211.org/2005/gco}CharacterString': 'Corine Land Cover (CLC) 2018, Version 2020 20_1'}}}}},\n",
       "   '{http://www.isotc211.org/2005/gmd}abstract': {'{http://www.isotc211.org/2005/gco}CharacterString': 'CLC2018 is one of the Corine Land Cover (CLC) datasets produced within the frame the Copernicus Land Monitoring Service referring to land cover / land use status of year 2018. CLC service has a long-time heritage (formerly known as \"CORINE Land Cover Programme\"), coordinated by the European Environment Agency (EEA). It provides consistent and thematically detailed information on land cover and land cover changes across Europe. \\nCLC datasets are based on the classification of satellite images produced by the national teams of the participating countries - the EEA members and cooperating countries (EEA39). National CLC inventories are then further integrated into a seamless land cover map of Europe. The resulting European database relies on standard methodology and nomenclature with following base parameters: 44 classes in the hierarchical 3-level CLC nomenclature; minimum mapping unit (MMU) for status layers is 25 hectares; minimum width of linear elements is 100 metres. Change layers have higher resolution, i.e. minimum mapping unit (MMU) is 5 hectares for Land Cover Changes (LCC), and the minimum width of linear elements is 100 metres. The CLC service delivers important data sets supporting the implementation of key priority areas of the Environment Action Programmes of the European Union as e.g. protecting ecosystems, halting the loss of biological diversity, tracking the impacts of climate change, monitoring urban land take, assessing developments in agriculture or dealing with water resources directives.  CLC belongs to the Pan-European component of the Copernicus Land Monitoring Service (https://land.copernicus.eu/), part of the European Copernicus Programme coordinated by the European Environment Agency, providing environmental information from a combination of air- and space-based observation systems and in-situ monitoring. Additional information about CLC product description including mapping guides can be found at https://land.copernicus.eu/user-corner/technical-library/clc2018technicalguidelines_final.pdf. CLC class descriptions can be found at https://land.copernicus.eu/user-corner/technical-library/corine-land-cover-nomenclature-guidelines/html/.'},\n",
       "   '{http://www.isotc211.org/2005/gmd}pointOfContact': {'{http://www.isotc211.org/2005/gmd}CI_ResponsibleParty': {'{http://www.isotc211.org/2005/gmd}individualName': {'{http://www.isotc211.org/2005/gco}nilReason': 'missing',\n",
       "      '{http://www.isotc211.org/2005/gco}CharacterString': None},\n",
       "     '{http://www.isotc211.org/2005/gmd}organisationName': {'{http://www.isotc211.org/2005/gco}nilReason': 'missing',\n",
       "      '{http://www.isotc211.org/2005/gco}CharacterString': None},\n",
       "     '{http://www.isotc211.org/2005/gmd}positionName': {'{http://www.isotc211.org/2005/gco}nilReason': 'missing',\n",
       "      '{http://www.isotc211.org/2005/gco}CharacterString': None},\n",
       "     '{http://www.isotc211.org/2005/gmd}contactInfo': {'{http://www.isotc211.org/2005/gmd}CI_Contact': {'{http://www.isotc211.org/2005/gmd}phone': {'{http://www.isotc211.org/2005/gmd}CI_Telephone': {'{http://www.isotc211.org/2005/gmd}voice': {'{http://www.isotc211.org/2005/gco}nilReason': 'missing',\n",
       "          '{http://www.isotc211.org/2005/gco}CharacterString': None},\n",
       "         '{http://www.isotc211.org/2005/gmd}facsimile': {'{http://www.isotc211.org/2005/gco}nilReason': 'missing',\n",
       "          '{http://www.isotc211.org/2005/gco}CharacterString': None}}},\n",
       "       '{http://www.isotc211.org/2005/gmd}address': {'{http://www.isotc211.org/2005/gmd}CI_Address': {'{http://www.isotc211.org/2005/gmd}deliveryPoint': {'{http://www.isotc211.org/2005/gco}nilReason': 'missing',\n",
       "          '{http://www.isotc211.org/2005/gco}CharacterString': None},\n",
       "         '{http://www.isotc211.org/2005/gmd}city': {'{http://www.isotc211.org/2005/gco}nilReason': 'missing',\n",
       "          '{http://www.isotc211.org/2005/gco}CharacterString': None},\n",
       "         '{http://www.isotc211.org/2005/gmd}administrativeArea': {'{http://www.isotc211.org/2005/gco}nilReason': 'missing',\n",
       "          '{http://www.isotc211.org/2005/gco}CharacterString': None},\n",
       "         '{http://www.isotc211.org/2005/gmd}postalCode': {'{http://www.isotc211.org/2005/gco}nilReason': 'missing',\n",
       "          '{http://www.isotc211.org/2005/gco}CharacterString': None},\n",
       "         '{http://www.isotc211.org/2005/gmd}country': {'{http://www.isotc211.org/2005/gco}nilReason': 'missing',\n",
       "          '{http://www.isotc211.org/2005/gco}CharacterString': None},\n",
       "         '{http://www.isotc211.org/2005/gmd}electronicMailAddress': {'{http://www.isotc211.org/2005/gco}nilReason': 'missing',\n",
       "          '{http://www.isotc211.org/2005/gco}CharacterString': None}}}}},\n",
       "     '{http://www.isotc211.org/2005/gmd}role': {'{http://www.isotc211.org/2005/gmd}CI_RoleCode': {'codeList': 'http://standards.iso.org/iso/19139/resources/gmxCodelists.xml#CI_RoleCode',\n",
       "       'codeListValue': 'resourceProvider'}}}},\n",
       "   '{http://www.isotc211.org/2005/gmd}resourceMaintenance': {'{http://www.isotc211.org/2005/gmd}MD_MaintenanceInformation': {'{http://www.isotc211.org/2005/gmd}maintenanceAndUpdateFrequency': {'{http://www.isotc211.org/2005/gmd}MD_MaintenanceFrequencyCode': {'codeList': 'http://standards.iso.org/iso/19139/resources/gmxCodelists.xml#MD_MaintenanceFrequencyCode',\n",
       "       'codeListValue': ''}}}},\n",
       "   '{http://www.isotc211.org/2005/gmd}graphicOverview': {'{http://www.isotc211.org/2005/gmd}MD_BrowseGraphic': {'{http://www.isotc211.org/2005/gmd}fileName': {'{http://www.isotc211.org/2005/gco}CharacterString': 'https://sdi.eea.europa.eu/public/catalogue-graphic-overview/blank.png'}}},\n",
       "   '{http://www.isotc211.org/2005/gmd}descriptiveKeywords': {'{http://www.isotc211.org/2005/gmd}MD_Keywords': {'{http://www.isotc211.org/2005/gmd}keyword': {'{http://www.isotc211.org/2005/gco}CharacterString': 'Albania, Austria, Belgium, Bosnia and Herzegovina, Bulgaria, Croatia, Cyprus, Czech Republic, Denmark, Estonia, Finland, France, Germany, Greece, Hungary, Iceland, Ireland, Italy, Kosovo, Latvia, Liechtenstein, Lithuania, Luxembourg, Malta, Montenegro, Netherlands, North Macedonia, Norway, Poland, Portugal, Romania, Serbia, Slovakia, Slovenia, Spain, Sweden, Switzerland, Turkey, United Kingdom'},\n",
       "     '{http://www.isotc211.org/2005/gmd}type': {'{http://www.isotc211.org/2005/gmd}MD_KeywordTypeCode': {'codeList': 'http://standards.iso.org/iso/19139/resources/gmxCodelists.xml#MD_KeywordTypeCode',\n",
       "       'codeListValue': 'place'}},\n",
       "     '{http://www.isotc211.org/2005/gmd}thesaurusName': {'{http://www.isotc211.org/2005/gmd}CI_Citation': {'{http://www.isotc211.org/2005/gmd}title': {'{http://www.isotc211.org/2005/gco}CharacterString': 'Continents, countries, sea regions of the world'},\n",
       "       '{http://www.isotc211.org/2005/gmd}date': {'{http://www.isotc211.org/2005/gmd}CI_Date': {'{http://www.isotc211.org/2005/gmd}date': {'{http://www.isotc211.org/2005/gco}Date': '2015-07-17'},\n",
       "         '{http://www.isotc211.org/2005/gmd}dateType': {'{http://www.isotc211.org/2005/gmd}CI_DateTypeCode': {'codeList': 'http://standards.iso.org/iso/19139/resources/gmxCodelists.xml#CI_DateTypeCode',\n",
       "           'codeListValue': 'publication'}}}},\n",
       "       '{http://www.isotc211.org/2005/gmd}identifier': {'{http://www.isotc211.org/2005/gmd}MD_Identifier': {'{http://www.isotc211.org/2005/gmd}code': {'{http://www.isotc211.org/2005/gmx}Anchor': {'{http://www.w3.org/1999/xlink}href': 'http://sdi.eea.europa.eu/editor-catalogue/srv/eng/thesaurus.download?ref=external.place.regions'}}}}}}}},\n",
       "   '{http://www.isotc211.org/2005/gmd}resourceConstraints': {'{http://www.isotc211.org/2005/gmd}MD_LegalConstraints': {'{http://www.isotc211.org/2005/gmd}useConstraints': {'{http://www.isotc211.org/2005/gmd}MD_RestrictionCode': {'codeList': 'http://standards.iso.org/iso/19139/resources/gmxCodelists.xml#MD_RestrictionCode',\n",
       "       'codeListValue': 'otherRestrictions'}}}},\n",
       "   '{http://www.isotc211.org/2005/gmd}language': {'{http://www.isotc211.org/2005/gmd}LanguageCode': {'codeList': 'http://www.loc.gov/standards/iso639-2/',\n",
       "     'codeListValue': 'eng'}},\n",
       "   '{http://www.isotc211.org/2005/gmd}topicCategory': {'{http://www.isotc211.org/2005/gmd}MD_TopicCategoryCode': 'imageryBaseMapsEarthCover'},\n",
       "   '{http://www.isotc211.org/2005/gmd}extent': {'{http://www.isotc211.org/2005/gmd}EX_Extent': {'{http://www.isotc211.org/2005/gmd}temporalElement': None}}}},\n",
       " '{http://www.isotc211.org/2005/gmd}distributionInfo': {'{http://www.isotc211.org/2005/gmd}MD_Distribution': {'{http://www.isotc211.org/2005/gmd}distributionFormat': {'{http://www.isotc211.org/2005/gmd}MD_Format': {'{http://www.isotc211.org/2005/gmd}name': {'{http://www.isotc211.org/2005/gco}nilReason': 'missing',\n",
       "      '{http://www.isotc211.org/2005/gco}CharacterString': None},\n",
       "     '{http://www.isotc211.org/2005/gmd}version': {'{http://www.isotc211.org/2005/gco}nilReason': 'unknown',\n",
       "      '{http://www.isotc211.org/2005/gco}CharacterString': None}}},\n",
       "   '{http://www.isotc211.org/2005/gmd}distributor': None,\n",
       "   '{http://www.isotc211.org/2005/gmd}transferOptions': {'{http://www.isotc211.org/2005/gmd}MD_DigitalTransferOptions': None}}},\n",
       " '{http://www.isotc211.org/2005/gmd}dataQualityInfo': {'{http://www.isotc211.org/2005/gmd}DQ_DataQuality': {'{http://www.isotc211.org/2005/gmd}scope': {'{http://www.isotc211.org/2005/gmd}DQ_Scope': {'{http://www.isotc211.org/2005/gmd}level': {'{http://www.isotc211.org/2005/gmd}MD_ScopeCode': {'codeListValue': 'dataset',\n",
       "       'codeList': 'http://standards.iso.org/iso/19139/resources/gmxCodelists.xml#MD_ScopeCode'}}}},\n",
       "   '{http://www.isotc211.org/2005/gmd}report': {'{http://www.isotc211.org/2005/gmd}DQ_DomainConsistency': {'{http://www.isotc211.org/2005/gmd}result': {'{http://www.isotc211.org/2005/gmd}DQ_ConformanceResult': {'{http://www.isotc211.org/2005/gmd}specification': {'{http://www.isotc211.org/2005/gmd}CI_Citation': {'{http://www.isotc211.org/2005/gmd}title': {'{http://www.isotc211.org/2005/gco}CharacterString': 'Commission Regulation (EU) No 1089/2010 of 23 November 2010 implementing Directive 2007/2/EC of the European Parliament and of the Council as regards interoperability of spatial data sets and services'},\n",
       "         '{http://www.isotc211.org/2005/gmd}date': {'{http://www.isotc211.org/2005/gmd}CI_Date': {'{http://www.isotc211.org/2005/gmd}date': {'{http://www.isotc211.org/2005/gco}Date': '2010-12-08'},\n",
       "           '{http://www.isotc211.org/2005/gmd}dateType': {'{http://www.isotc211.org/2005/gmd}CI_DateTypeCode': {'codeList': 'http://standards.iso.org/iso/19139/resources/gmxCodelists.xml#CI_DateTypeCode',\n",
       "             'codeListValue': 'publication'}}}}}},\n",
       "       '{http://www.isotc211.org/2005/gmd}explanation': {'{http://www.isotc211.org/2005/gco}CharacterString': 'See the referenced specification'},\n",
       "       '{http://www.isotc211.org/2005/gmd}pass': {'{http://www.isotc211.org/2005/gco}nilReason': 'unknown'}}}}},\n",
       "   '{http://www.isotc211.org/2005/gmd}lineage': {'{http://www.isotc211.org/2005/gmd}LI_Lineage': {'{http://www.isotc211.org/2005/gmd}statement': {'{http://www.isotc211.org/2005/gco}CharacterString': 'CLC products are based in majority of EEA39 countries on the photointerpretation of satellite images by the national teams of the participating countries - the EEA member and cooperating countries. All features in original vector database are delineated and classified on satellite images according to CLC specifications i.e. with better than 100 m positional accuracy and 25 ha minimum mapping unit (5 ha MMU for change layer) into the standardized CLC nomenclature (44 CLC classes). The change layer is derived from satellite imagery by direct mapping of changes taken place between two consecutive inventories, based on image-to-image comparison. Some countries follow alternative approaches by utilizing semiautomatic methodology e.g. generalisation of higher resolution national datasets. Production of national CLC inventories is supported by training and is under systematic control of the CLC Technical Team, both for thematic and semantic aspects, to assure harmonized European products. The process of European data integration starts when national deliveries are accepted and the Database Acceptance Report (DBTA) issued. National CLC data are then transformed into the common European reference (ETRS89/LAEA) and pan-European seamless dataset is produced. Integration step includes also harmonization of database along country borders. Rigorous harmonization of country borders has been done only for CLC2000 and CHA9000 layers (in 2 km wide strips along borders) as part of CLC2000 update. Currently, only simplified harmonisation is applied i.e. small border polygons (area < 5 ha) are generalised according to predefined rules to largest and/or thematically most similar neighbour, sliver polygons along borders (< 0.1 ha) are eliminated. European Corine Land Cover seamless database represents the final product of European data integration. Some artificial lines (dividing polygons with the same code) can be still present in database due to technical constraints of current ArcGIS technology and complexity of dataset (adaptive tiling) but this has no impact on dataset contents and can be dissolved for smaller data extracts.\\nRevised versions\\nStarted from the publication of CLC2006 (Version 16) the previous inventory is substituted by its revised version by most of the participating countries (see CLC seamless data coverage table https://land.copernicus.eu/user-corner/technical-library/clc-country-coverage-1990-2018-v20_1). However, due to their specific methodology not all countries are producing revised version of the previous inventory.  The revision of previous CLC layer is a “by-product” of the standard updating process, including corrections to the original data identified during the update. Revisions (correcting mistakes) are needed because of the following factors: \\n- availability of higher resolution satellite imagery;\\n- a new satellite image or time series of satellite imagery provides additional key to correctly recognise a feature;\\n- improved availability and better quality of in-situ data;\\n- improved skills of experts, i.e. better understanding and application of CLC nomenclature;\\n- decision of the national team to improve the product between two inventories.\\n\\nThese revisions are not propagated backward to older datasets (e.g. during CLC2018 revision of CLC2012 might be provided, but the older datasets were not revised). Thus, consecutive inventories might include not only real changes, but also differences due to revisions. Therefore, it is recommended that in time series analysis CLC-Change layers should be used. If status layers from past are needed, these could be derived backward from deducting CLC-Change layers from the latest (best available) status layer as it is done for EEA accounting layers (see at https://www.eea.europa.eu/data-and-maps/data/corine-land-cover-accounting-layers)\\nMore details to be available soon in upcoming \"Users\\' Manual for all Copernicus data” document. \\nVersion 20_1\\nRelease date: 24-02-2020\\nFile naming conventions simplified and better described. New file naming convention has been introduced based on user feedback on version 20. Filename is composed of combination of information about update campaign, data theme and reference year and version specification (including release year and release number). \\nSee https://land.copernicus.eu/user-corner/technical-library/clc-file-naming-conventions-guide-v20_1 for details.\\n\\nThe French DOMs are provided in separate databases (files both for vector and raster version of data).\\n\\nAll raster layers are back in 8 bit GeoTIFF. Modification is introduced based on the user feedback on version 20. In order to keep 8 bit resolution for raster change layers, they are divided into two files - representing consumption (from) and formation (to) part of change.\\n\\nSee https://land.copernicus.eu/user-corner/technical-library/clc-country-coverage-1990-2018-v20_1 for full information about the coverage of this version.\\nSee http://land.copernicus.eu/user-corner/technical-library/clc-and-clcc-release-lineage for full information about lineage history.'}}}}},\n",
       " 'ORIGINAL_URL': '../CLC_samples/U2018_CLC2018_V2020_20u1.xml'}"
      ]
     },
     "execution_count": 18,
     "metadata": {},
     "output_type": "execute_result"
    }
   ],
   "source": [
    "xml_path = '../CLC_samples/U2018_CLC2018_V2020_20u1.xml'\n",
    "\n",
    "get_metadata(xml_path)\n"
   ]
  }
 ],
 "metadata": {
  "kernelspec": {
   "display_name": ".venv",
   "language": "python",
   "name": "python3"
  },
  "language_info": {
   "codemirror_mode": {
    "name": "ipython",
    "version": 3
   },
   "file_extension": ".py",
   "mimetype": "text/x-python",
   "name": "python",
   "nbconvert_exporter": "python",
   "pygments_lexer": "ipython3",
   "version": "3.11.3"
  }
 },
 "nbformat": 4,
 "nbformat_minor": 2
}
