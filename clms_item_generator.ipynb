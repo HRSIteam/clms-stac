{
 "cells": [
  {
   "cell_type": "code",
   "execution_count": 40,
   "metadata": {},
   "outputs": [],
   "source": [
    "import os\n",
    "import re\n",
    "\n",
    "from pyproj import Transformer\n",
    "from pystac.extensions.projection import ProjectionExtension\n",
    "import pystac.item\n",
    "from shapely.geometry import GeometryCollection, box, shape, mapping\n",
    "from datetime import datetime, UTC\n",
    "import pystac\n",
    "\n",
    "import rasterio as rio\n",
    "import rasterio.warp\n",
    "import rasterio.crs\n",
    "\n",
    "import xml.etree.cElementTree as ET\n",
    "from xml.dom import minidom"
   ]
  },
  {
   "cell_type": "code",
   "execution_count": 41,
   "metadata": {},
   "outputs": [],
   "source": [
    "img_path = 'X:/EO/u2018_clc2012_v2020_20u1_raster100m/DATA/U2018_CLC2012_V2020_20u1.tif'\n",
    "\n",
    "id = os.path.basename(img_path).split('.')[0]\n",
    "_ = re.search('(?<=CLC)[0-9]{4}', id)\n",
    "year = _.group(0)\n",
    "\n",
    "# Wrap in def?\n",
    "\n",
    "props = {'description': (f'Corine Land Cover {year} (CLC{year}) is one of the Corine Land Cover (CLC) ' \n",
    "                         f'datasets produced within the frame the Copernicus Land Monitoring Service '\n",
    "                         f'referring to land cover / land use status of year {year}. '\n",
    "                         f'CLC service has a long-time heritage (formerly known as \\\"CORINE Land Cover Programme\\\"), '\n",
    "                         f'coordinated by the European Environment Agency (EEA). It provides consistent '\n",
    "                         f'and thematically detailed information on land cover and land cover changes across Europe. '\n",
    "                         f'CLC datasets are based on the classification of satellite images produced by the national '\n",
    "                         f'teams of the participating countries - the EEA members and cooperating countries (EEA39). '\n",
    "                         f'National CLC inventories are then further integrated into a seamless land cover map of Europe. '\n",
    "                         f'The resulting European database relies on standard methodology and nomenclature with following '\n",
    "                         f'base parameters: 44 classes in the hierarchical 3-level CLC nomenclature; '\n",
    "                         f'minimum mapping unit (MMU) for status layers is 25 hectares; '\n",
    "                         f'minimum width of linear elements is 100 metres. '\n",
    "                         f'Change layers have higher resolution, i.e. minimum mapping unit (MMU) is 5 hectares '\n",
    "                         f'for Land Cover Changes (LCC), and the minimum width of linear elements is 100 metres. '\n",
    "                         f'The CLC service delivers important data sets supporting the implementation of key priority '\n",
    "                         f'areas of the Environment Action Programmes of the European Union as e.g. protecting ecosystems, '\n",
    "                         f'halting the loss of biological diversity, tracking the impacts of climate change, '\n",
    "                         f'monitoring urban land take, assessing developments in agriculture or dealing with '\n",
    "                         f'water resources directives. CLC belongs to the Pan-European component of the '\n",
    "                         f'Copernicus Land Monitoring Service (https://land.copernicus.eu/), part of the '\n",
    "                         f'European Copernicus Programme coordinated by the European Environment Agency, '\n",
    "                         f'providing environmental information from a combination of air- and space-based observation '\n",
    "                         f'systems and in-situ monitoring. Additional information about CLC product description including '\n",
    "                         f'mapping guides can be found at https://land.copernicus.eu/user-corner/technical-library/. '\n",
    "                         f'CLC class descriptions can be found at '\n",
    "                         f'https://land.copernicus.eu/user-corner/technical-library/corine-land-cover-nomenclature-guidelines/html/.'),\n",
    "         'created': None,\n",
    "         'providers': [{\n",
    "                        'name': 'Copernicus Land Monitoring Service',\n",
    "                        'description': ('The Copernicus Land Monitoring Service provides '\n",
    "                                        'geographical information on land cover and its '\n",
    "                                        'changes, land use, ground motions, vegetation state, '\n",
    "                                        'water cycle and Earth\\'s surface energy variables to '\n",
    "                                        'a broad range of users in Europe and across the World '\n",
    "                                        'in the field of environmental terrestrial applications.'),\n",
    "                        'roles': ['licensor', 'host'],\n",
    "                        'url': 'https://land.copernicus.eu'\n",
    "                      }],\n",
    "         \n",
    "\n",
    "\n",
    "}\n",
    "\n",
    "\n",
    "\n",
    "with rio.open(img_path) as img:\n",
    "\n",
    "    # xmin, ymin, xmax, ymax = img.bounds\n",
    "    # transformer = Transformer.from_crs(img.crs, \"EPSG:4326\")\n",
    "    # xmin_, ymax_ = transformer.transform(xmin, ymax)\n",
    "    # xmax_, ymin_ = transformer.transform(xmax, ymin)\n",
    "    # box_ = box(*[xmin_, ymin_, xmin_, ymax_])\n",
    "    # box_ = box(*transformer.transform_bounds(*img.bounds))\n",
    "    # bounds_wgs84 = rasterio.warp.transform_bounds(img.crs, CRS.from_epsg(4326), *img.bounds)\n",
    "    bbox = rio.warp.transform_bounds(img.crs, rio.crs.CRS.from_epsg(4326), *img.bounds)\n",
    "    params = {\n",
    "        'id': id,\n",
    "        'bbox': bbox,\n",
    "        'geometry': mapping(box(*bbox)),\n",
    "        'datetime': None,\n",
    "        'start_datetime': datetime(int(year), 1, 1, microsecond=0, tzinfo=UTC),\n",
    "        'end_datetime': datetime(int(year), 12, 31, microsecond=0, tzinfo=UTC),\n",
    "        'properties': props,\n",
    "    }\n",
    "\n",
    "\n",
    "\n",
    "item = pystac.Item(**params)\n",
    "\n",
    "\n",
    "item.add_asset(\n",
    "    key='image',\n",
    "    asset=pystac.Asset(href=img_path, title='Geotiff', media_type=pystac.MediaType.GEOTIFF),\n",
    ")\n",
    "\n",
    "# item.ext.add('proj')"
   ]
  },
  {
   "cell_type": "code",
   "execution_count": 42,
   "metadata": {},
   "outputs": [],
   "source": [
    "from pystac.extensions.projection import ProjectionExtension\n",
    "import pystac.link\n",
    "\n",
    "proj_ext = ProjectionExtension.ext(item.assets['image'], add_if_missing=True)\n",
    "\n",
    "proj_ext.apply(epsg=rio.crs.CRS(img.crs).to_epsg(),\n",
    "               bbox=img.bounds,\n",
    "               shape=[_ for _ in img.shape],\n",
    "               transform=[_ for _ in img.transform] + [0.0, 0.0, 1.0],\n",
    "               )\n",
    "\n",
    "license = pystac.link.Link(rel='LICENSE', target=\"https://land.copernicus.eu/en/data-policy\")\n",
    "item.add_link(license)\n",
    "\n"
   ]
  },
  {
   "cell_type": "code",
   "execution_count": 43,
   "metadata": {},
   "outputs": [],
   "source": [
    "item.save_object(dest_href='testY.json')"
   ]
  },
  {
   "cell_type": "code",
   "execution_count": 28,
   "metadata": {},
   "outputs": [
    {
     "data": {
      "text/plain": [
       "datetime.datetime(2012, 1, 1, 0, 0)"
      ]
     },
     "execution_count": 28,
     "metadata": {},
     "output_type": "execute_result"
    }
   ],
   "source": [
    "datetime(int(year), 1, 1, microsecond=0)"
   ]
  },
  {
   "cell_type": "code",
   "execution_count": 17,
   "metadata": {},
   "outputs": [],
   "source": [
    "# Taken from https://stackoverflow.com/questions/2148119/how-to-convert-an-xml-string-to-a-dictionary\n",
    "from xml.etree import cElementTree as ElementTree\n",
    "\n",
    "\n",
    "class XmlListConfig(list):\n",
    "    def __init__(self, aList):\n",
    "        for element in aList:\n",
    "            if element:\n",
    "                if len(element) == 1 or element[0].tag != element[1].tag:\n",
    "                    self.append(XmlDictConfig(element))\n",
    "                elif element[0].tag == element[1].tag:\n",
    "                    self.append(XmlListConfig(element))\n",
    "            elif element.text:\n",
    "                text = element.text.strip()\n",
    "                if text:\n",
    "                    self.append(text)\n",
    "\n",
    "\n",
    "class XmlDictConfig(dict):\n",
    "    def __init__(self, parent_element):\n",
    "        if parent_element.items():\n",
    "            self.update(dict(parent_element.items()))\n",
    "        for element in parent_element:\n",
    "            if element:\n",
    "                if len(element) == 1 or element[0].tag != element[1].tag:\n",
    "                    aDict = XmlDictConfig(element)\n",
    "                else:\n",
    "                    aDict = {element[0].tag: XmlListConfig(element)}\n",
    "                if element.items():\n",
    "                    aDict.update(dict(element.items()))\n",
    "                self.update({element.tag: aDict})\n",
    "            elif element.items():\n",
    "                self.update({element.tag: dict(element.items())})\n",
    "            else:\n",
    "                self.update({element.tag: element.text})\n",
    "\n",
    "stac_io = pystac.StacIO.default()\n",
    "\n",
    "def get_metadata(xml: str):\n",
    "    result = XmlDictConfig(ElementTree.XML(stac_io.read_text(xml)))\n",
    "    result[\n",
    "        \"ORIGINAL_URL\"\n",
    "    ] = xml  # Include the original URL in the metadata for use later\n",
    "    return result"
   ]
  },
  {
   "cell_type": "code",
   "execution_count": 18,
   "metadata": {},
   "outputs": [
    {
     "data": {
      "text/plain": [
       "{'{http://www.w3.org/2001/XMLSchema-instance}schemaLocation': 'http://www.isotc211.org/2005/gmd http://schemas.opengis.net/csw/2.0.2/profiles/apiso/1.0.0/apiso.xsd',\n",
       " '{http://www.isotc211.org/2005/gmd}fileIdentifier': {'{http://www.isotc211.org/2005/gco}CharacterString': '7e162b2d-5196-41b2-b6dd-e889651e2f1f'},\n",
       " '{http://www.isotc211.org/2005/gmd}language': {'{http://www.isotc211.org/2005/gmd}LanguageCode': {'codeList': 'http://www.loc.gov/standards/iso639-2/',\n",
       "   'codeListValue': 'eng'}},\n",
       " '{http://www.isotc211.org/2005/gmd}characterSet': {'{http://www.isotc211.org/2005/gmd}MD_CharacterSetCode': {'codeList': 'http://standards.iso.org/iso/19139/resources/gmxCodelists.xml#MD_CharacterSetCode',\n",
       "   'codeListValue': 'utf8'}},\n",
       " '{http://www.isotc211.org/2005/gmd}hierarchyLevel': {'{http://www.isotc211.org/2005/gmd}MD_ScopeCode': {'codeList': 'http://standards.iso.org/iso/19139/resources/gmxCodelists.xml#MD_ScopeCode',\n",
       "   'codeListValue': 'dataset'}},\n",
       " '{http://www.isotc211.org/2005/gmd}contact': {'{http://www.isotc211.org/2005/gmd}CI_ResponsibleParty': {'{http://www.isotc211.org/2005/gmd}organisationName': {'{http://www.isotc211.org/2005/gco}CharacterString': 'European Environment Agency'},\n",
       "   '{http://www.isotc211.org/2005/gmd}contactInfo': {'{http://www.isotc211.org/2005/gmd}CI_Contact': {'{http://www.isotc211.org/2005/gmd}address': {'{http://www.isotc211.org/2005/gmd}CI_Address': {'{http://www.isotc211.org/2005/gmd}deliveryPoint': {'{http://www.isotc211.org/2005/gco}CharacterString': 'Kongens Nytorv 6'},\n",
       "       '{http://www.isotc211.org/2005/gmd}city': {'{http://www.isotc211.org/2005/gco}CharacterString': 'Copenhagen'},\n",
       "       '{http://www.isotc211.org/2005/gmd}administrativeArea': {'{http://www.isotc211.org/2005/gco}CharacterString': 'K'},\n",
       "       '{http://www.isotc211.org/2005/gmd}postalCode': {'{http://www.isotc211.org/2005/gco}CharacterString': '1050'},\n",
       "       '{http://www.isotc211.org/2005/gmd}country': {'{http://www.isotc211.org/2005/gco}CharacterString': 'Denmark'},\n",
       "       '{http://www.isotc211.org/2005/gmd}electronicMailAddress': {'{http://www.isotc211.org/2005/gco}CharacterString': 'sdi@eea.europa.eu'}}}}},\n",
       "   '{http://www.isotc211.org/2005/gmd}role': {'{http://www.isotc211.org/2005/gmd}CI_RoleCode': {'codeList': 'http://standards.iso.org/iso/19139/resources/gmxCodelists.xml#CI_RoleCode',\n",
       "     'codeListValue': 'pointOfContact'}}}},\n",
       " '{http://www.isotc211.org/2005/gmd}dateStamp': {'{http://www.isotc211.org/2005/gco}DateTime': '2019-12-18T22:18:54'},\n",
       " '{http://www.isotc211.org/2005/gmd}metadataStandardName': {'{http://www.isotc211.org/2005/gco}CharacterString': 'ISO 19115:2003/19139'},\n",
       " '{http://www.isotc211.org/2005/gmd}metadataStandardVersion': {'{http://www.isotc211.org/2005/gco}CharacterString': '1.0'},\n",
       " '{http://www.isotc211.org/2005/gmd}referenceSystemInfo': {'{http://www.isotc211.org/2005/gmd}MD_ReferenceSystem': {'{http://www.isotc211.org/2005/gmd}referenceSystemIdentifier': {'{http://www.isotc211.org/2005/gmd}RS_Identifier': {'{http://www.isotc211.org/2005/gmd}code': {'{http://www.isotc211.org/2005/gmx}Anchor': {'{http://www.w3.org/1999/xlink}href': 'http://www.opengis.net/def/crs/EPSG/0/3035'}}}}}},\n",
       " '{http://www.isotc211.org/2005/gmd}identificationInfo': {'{http://www.isotc211.org/2005/gmd}MD_DataIdentification': {'{http://www.isotc211.org/2005/gmd}citation': {'{http://www.isotc211.org/2005/gmd}CI_Citation': {'{http://www.isotc211.org/2005/gmd}title': {'{http://www.isotc211.org/2005/gco}CharacterString': 'Corine Land Cover (CLC) 2018, Version 2020 20_1'},\n",
       "     '{http://www.isotc211.org/2005/gmd}date': {'{http://www.isotc211.org/2005/gmd}CI_Date': {'{http://www.isotc211.org/2005/gmd}date': {'{http://www.isotc211.org/2005/gco}Date': '2020-02-24'},\n",
       "       '{http://www.isotc211.org/2005/gmd}dateType': {'{http://www.isotc211.org/2005/gmd}CI_DateTypeCode': {'codeList': 'http://standards.iso.org/iso/19139/resources/gmxCodelists.xml#CI_DateTypeCode',\n",
       "         'codeListValue': 'publication'}}}},\n",
       "     '{http://www.isotc211.org/2005/gmd}edition': {'{http://www.isotc211.org/2005/gco}CharacterString': '20_1'},\n",
       "     '{http://www.isotc211.org/2005/gmd}identifier': {'{http://www.isotc211.org/2005/gmd}MD_Identifier': {'{http://www.isotc211.org/2005/gmd}code': {'{http://www.isotc211.org/2005/gco}CharacterString': 'Corine Land Cover (CLC) 2018, Version 2020 20_1'}}}}},\n",
       "   '{http://www.isotc211.org/2005/gmd}abstract': {'{http://www.isotc211.org/2005/gco}CharacterString': 'CLC2018 is one of the Corine Land Cover (CLC) datasets produced within the frame the Copernicus Land Monitoring Service referring to land cover / land use status of year 2018. CLC service has a long-time heritage (formerly known as \"CORINE Land Cover Programme\"), coordinated by the European Environment Agency (EEA). It provides consistent and thematically detailed information on land cover and land cover changes across Europe. \\nCLC datasets are based on the classification of satellite images produced by the national teams of the participating countries - the EEA members and cooperating countries (EEA39). National CLC inventories are then further integrated into a seamless land cover map of Europe. The resulting European database relies on standard methodology and nomenclature with following base parameters: 44 classes in the hierarchical 3-level CLC nomenclature; minimum mapping unit (MMU) for status layers is 25 hectares; minimum width of linear elements is 100 metres. Change layers have higher resolution, i.e. minimum mapping unit (MMU) is 5 hectares for Land Cover Changes (LCC), and the minimum width of linear elements is 100 metres. The CLC service delivers important data sets supporting the implementation of key priority areas of the Environment Action Programmes of the European Union as e.g. protecting ecosystems, halting the loss of biological diversity, tracking the impacts of climate change, monitoring urban land take, assessing developments in agriculture or dealing with water resources directives.  CLC belongs to the Pan-European component of the Copernicus Land Monitoring Service (https://land.copernicus.eu/), part of the European Copernicus Programme coordinated by the European Environment Agency, providing environmental information from a combination of air- and space-based observation systems and in-situ monitoring. Additional information about CLC product description including mapping guides can be found at https://land.copernicus.eu/user-corner/technical-library/clc2018technicalguidelines_final.pdf. CLC class descriptions can be found at https://land.copernicus.eu/user-corner/technical-library/corine-land-cover-nomenclature-guidelines/html/.'},\n",
       "   '{http://www.isotc211.org/2005/gmd}pointOfContact': {'{http://www.isotc211.org/2005/gmd}CI_ResponsibleParty': {'{http://www.isotc211.org/2005/gmd}individualName': {'{http://www.isotc211.org/2005/gco}nilReason': 'missing',\n",
       "      '{http://www.isotc211.org/2005/gco}CharacterString': None},\n",
       "     '{http://www.isotc211.org/2005/gmd}organisationName': {'{http://www.isotc211.org/2005/gco}nilReason': 'missing',\n",
       "      '{http://www.isotc211.org/2005/gco}CharacterString': None},\n",
       "     '{http://www.isotc211.org/2005/gmd}positionName': {'{http://www.isotc211.org/2005/gco}nilReason': 'missing',\n",
       "      '{http://www.isotc211.org/2005/gco}CharacterString': None},\n",
       "     '{http://www.isotc211.org/2005/gmd}contactInfo': {'{http://www.isotc211.org/2005/gmd}CI_Contact': {'{http://www.isotc211.org/2005/gmd}phone': {'{http://www.isotc211.org/2005/gmd}CI_Telephone': {'{http://www.isotc211.org/2005/gmd}voice': {'{http://www.isotc211.org/2005/gco}nilReason': 'missing',\n",
       "          '{http://www.isotc211.org/2005/gco}CharacterString': None},\n",
       "         '{http://www.isotc211.org/2005/gmd}facsimile': {'{http://www.isotc211.org/2005/gco}nilReason': 'missing',\n",
       "          '{http://www.isotc211.org/2005/gco}CharacterString': None}}},\n",
       "       '{http://www.isotc211.org/2005/gmd}address': {'{http://www.isotc211.org/2005/gmd}CI_Address': {'{http://www.isotc211.org/2005/gmd}deliveryPoint': {'{http://www.isotc211.org/2005/gco}nilReason': 'missing',\n",
       "          '{http://www.isotc211.org/2005/gco}CharacterString': None},\n",
       "         '{http://www.isotc211.org/2005/gmd}city': {'{http://www.isotc211.org/2005/gco}nilReason': 'missing',\n",
       "          '{http://www.isotc211.org/2005/gco}CharacterString': None},\n",
       "         '{http://www.isotc211.org/2005/gmd}administrativeArea': {'{http://www.isotc211.org/2005/gco}nilReason': 'missing',\n",
       "          '{http://www.isotc211.org/2005/gco}CharacterString': None},\n",
       "         '{http://www.isotc211.org/2005/gmd}postalCode': {'{http://www.isotc211.org/2005/gco}nilReason': 'missing',\n",
       "          '{http://www.isotc211.org/2005/gco}CharacterString': None},\n",
       "         '{http://www.isotc211.org/2005/gmd}country': {'{http://www.isotc211.org/2005/gco}nilReason': 'missing',\n",
       "          '{http://www.isotc211.org/2005/gco}CharacterString': None},\n",
       "         '{http://www.isotc211.org/2005/gmd}electronicMailAddress': {'{http://www.isotc211.org/2005/gco}nilReason': 'missing',\n",
       "          '{http://www.isotc211.org/2005/gco}CharacterString': None}}}}},\n",
       "     '{http://www.isotc211.org/2005/gmd}role': {'{http://www.isotc211.org/2005/gmd}CI_RoleCode': {'codeList': 'http://standards.iso.org/iso/19139/resources/gmxCodelists.xml#CI_RoleCode',\n",
       "       'codeListValue': 'resourceProvider'}}}},\n",
       "   '{http://www.isotc211.org/2005/gmd}resourceMaintenance': {'{http://www.isotc211.org/2005/gmd}MD_MaintenanceInformation': {'{http://www.isotc211.org/2005/gmd}maintenanceAndUpdateFrequency': {'{http://www.isotc211.org/2005/gmd}MD_MaintenanceFrequencyCode': {'codeList': 'http://standards.iso.org/iso/19139/resources/gmxCodelists.xml#MD_MaintenanceFrequencyCode',\n",
       "       'codeListValue': ''}}}},\n",
       "   '{http://www.isotc211.org/2005/gmd}graphicOverview': {'{http://www.isotc211.org/2005/gmd}MD_BrowseGraphic': {'{http://www.isotc211.org/2005/gmd}fileName': {'{http://www.isotc211.org/2005/gco}CharacterString': 'https://sdi.eea.europa.eu/public/catalogue-graphic-overview/blank.png'}}},\n",
       "   '{http://www.isotc211.org/2005/gmd}descriptiveKeywords': {'{http://www.isotc211.org/2005/gmd}MD_Keywords': {'{http://www.isotc211.org/2005/gmd}keyword': {'{http://www.isotc211.org/2005/gco}CharacterString': 'Albania, Austria, Belgium, Bosnia and Herzegovina, Bulgaria, Croatia, Cyprus, Czech Republic, Denmark, Estonia, Finland, France, Germany, Greece, Hungary, Iceland, Ireland, Italy, Kosovo, Latvia, Liechtenstein, Lithuania, Luxembourg, Malta, Montenegro, Netherlands, North Macedonia, Norway, Poland, Portugal, Romania, Serbia, Slovakia, Slovenia, Spain, Sweden, Switzerland, Turkey, United Kingdom'},\n",
       "     '{http://www.isotc211.org/2005/gmd}type': {'{http://www.isotc211.org/2005/gmd}MD_KeywordTypeCode': {'codeList': 'http://standards.iso.org/iso/19139/resources/gmxCodelists.xml#MD_KeywordTypeCode',\n",
       "       'codeListValue': 'place'}},\n",
       "     '{http://www.isotc211.org/2005/gmd}thesaurusName': {'{http://www.isotc211.org/2005/gmd}CI_Citation': {'{http://www.isotc211.org/2005/gmd}title': {'{http://www.isotc211.org/2005/gco}CharacterString': 'Continents, countries, sea regions of the world'},\n",
       "       '{http://www.isotc211.org/2005/gmd}date': {'{http://www.isotc211.org/2005/gmd}CI_Date': {'{http://www.isotc211.org/2005/gmd}date': {'{http://www.isotc211.org/2005/gco}Date': '2015-07-17'},\n",
       "         '{http://www.isotc211.org/2005/gmd}dateType': {'{http://www.isotc211.org/2005/gmd}CI_DateTypeCode': {'codeList': 'http://standards.iso.org/iso/19139/resources/gmxCodelists.xml#CI_DateTypeCode',\n",
       "           'codeListValue': 'publication'}}}},\n",
       "       '{http://www.isotc211.org/2005/gmd}identifier': {'{http://www.isotc211.org/2005/gmd}MD_Identifier': {'{http://www.isotc211.org/2005/gmd}code': {'{http://www.isotc211.org/2005/gmx}Anchor': {'{http://www.w3.org/1999/xlink}href': 'http://sdi.eea.europa.eu/editor-catalogue/srv/eng/thesaurus.download?ref=external.place.regions'}}}}}}}},\n",
       "   '{http://www.isotc211.org/2005/gmd}resourceConstraints': {'{http://www.isotc211.org/2005/gmd}MD_LegalConstraints': {'{http://www.isotc211.org/2005/gmd}useConstraints': {'{http://www.isotc211.org/2005/gmd}MD_RestrictionCode': {'codeList': 'http://standards.iso.org/iso/19139/resources/gmxCodelists.xml#MD_RestrictionCode',\n",
       "       'codeListValue': 'otherRestrictions'}}}},\n",
       "   '{http://www.isotc211.org/2005/gmd}language': {'{http://www.isotc211.org/2005/gmd}LanguageCode': {'codeList': 'http://www.loc.gov/standards/iso639-2/',\n",
       "     'codeListValue': 'eng'}},\n",
       "   '{http://www.isotc211.org/2005/gmd}topicCategory': {'{http://www.isotc211.org/2005/gmd}MD_TopicCategoryCode': 'imageryBaseMapsEarthCover'},\n",
       "   '{http://www.isotc211.org/2005/gmd}extent': {'{http://www.isotc211.org/2005/gmd}EX_Extent': {'{http://www.isotc211.org/2005/gmd}temporalElement': None}}}},\n",
       " '{http://www.isotc211.org/2005/gmd}distributionInfo': {'{http://www.isotc211.org/2005/gmd}MD_Distribution': {'{http://www.isotc211.org/2005/gmd}distributionFormat': {'{http://www.isotc211.org/2005/gmd}MD_Format': {'{http://www.isotc211.org/2005/gmd}name': {'{http://www.isotc211.org/2005/gco}nilReason': 'missing',\n",
       "      '{http://www.isotc211.org/2005/gco}CharacterString': None},\n",
       "     '{http://www.isotc211.org/2005/gmd}version': {'{http://www.isotc211.org/2005/gco}nilReason': 'unknown',\n",
       "      '{http://www.isotc211.org/2005/gco}CharacterString': None}}},\n",
       "   '{http://www.isotc211.org/2005/gmd}distributor': None,\n",
       "   '{http://www.isotc211.org/2005/gmd}transferOptions': {'{http://www.isotc211.org/2005/gmd}MD_DigitalTransferOptions': None}}},\n",
       " '{http://www.isotc211.org/2005/gmd}dataQualityInfo': {'{http://www.isotc211.org/2005/gmd}DQ_DataQuality': {'{http://www.isotc211.org/2005/gmd}scope': {'{http://www.isotc211.org/2005/gmd}DQ_Scope': {'{http://www.isotc211.org/2005/gmd}level': {'{http://www.isotc211.org/2005/gmd}MD_ScopeCode': {'codeListValue': 'dataset',\n",
       "       'codeList': 'http://standards.iso.org/iso/19139/resources/gmxCodelists.xml#MD_ScopeCode'}}}},\n",
       "   '{http://www.isotc211.org/2005/gmd}report': {'{http://www.isotc211.org/2005/gmd}DQ_DomainConsistency': {'{http://www.isotc211.org/2005/gmd}result': {'{http://www.isotc211.org/2005/gmd}DQ_ConformanceResult': {'{http://www.isotc211.org/2005/gmd}specification': {'{http://www.isotc211.org/2005/gmd}CI_Citation': {'{http://www.isotc211.org/2005/gmd}title': {'{http://www.isotc211.org/2005/gco}CharacterString': 'Commission Regulation (EU) No 1089/2010 of 23 November 2010 implementing Directive 2007/2/EC of the European Parliament and of the Council as regards interoperability of spatial data sets and services'},\n",
       "         '{http://www.isotc211.org/2005/gmd}date': {'{http://www.isotc211.org/2005/gmd}CI_Date': {'{http://www.isotc211.org/2005/gmd}date': {'{http://www.isotc211.org/2005/gco}Date': '2010-12-08'},\n",
       "           '{http://www.isotc211.org/2005/gmd}dateType': {'{http://www.isotc211.org/2005/gmd}CI_DateTypeCode': {'codeList': 'http://standards.iso.org/iso/19139/resources/gmxCodelists.xml#CI_DateTypeCode',\n",
       "             'codeListValue': 'publication'}}}}}},\n",
       "       '{http://www.isotc211.org/2005/gmd}explanation': {'{http://www.isotc211.org/2005/gco}CharacterString': 'See the referenced specification'},\n",
       "       '{http://www.isotc211.org/2005/gmd}pass': {'{http://www.isotc211.org/2005/gco}nilReason': 'unknown'}}}}},\n",
       "   '{http://www.isotc211.org/2005/gmd}lineage': {'{http://www.isotc211.org/2005/gmd}LI_Lineage': {'{http://www.isotc211.org/2005/gmd}statement': {'{http://www.isotc211.org/2005/gco}CharacterString': 'CLC products are based in majority of EEA39 countries on the photointerpretation of satellite images by the national teams of the participating countries - the EEA member and cooperating countries. All features in original vector database are delineated and classified on satellite images according to CLC specifications i.e. with better than 100 m positional accuracy and 25 ha minimum mapping unit (5 ha MMU for change layer) into the standardized CLC nomenclature (44 CLC classes). The change layer is derived from satellite imagery by direct mapping of changes taken place between two consecutive inventories, based on image-to-image comparison. Some countries follow alternative approaches by utilizing semiautomatic methodology e.g. generalisation of higher resolution national datasets. Production of national CLC inventories is supported by training and is under systematic control of the CLC Technical Team, both for thematic and semantic aspects, to assure harmonized European products. The process of European data integration starts when national deliveries are accepted and the Database Acceptance Report (DBTA) issued. National CLC data are then transformed into the common European reference (ETRS89/LAEA) and pan-European seamless dataset is produced. Integration step includes also harmonization of database along country borders. Rigorous harmonization of country borders has been done only for CLC2000 and CHA9000 layers (in 2 km wide strips along borders) as part of CLC2000 update. Currently, only simplified harmonisation is applied i.e. small border polygons (area < 5 ha) are generalised according to predefined rules to largest and/or thematically most similar neighbour, sliver polygons along borders (< 0.1 ha) are eliminated. European Corine Land Cover seamless database represents the final product of European data integration. Some artificial lines (dividing polygons with the same code) can be still present in database due to technical constraints of current ArcGIS technology and complexity of dataset (adaptive tiling) but this has no impact on dataset contents and can be dissolved for smaller data extracts.\\nRevised versions\\nStarted from the publication of CLC2006 (Version 16) the previous inventory is substituted by its revised version by most of the participating countries (see CLC seamless data coverage table https://land.copernicus.eu/user-corner/technical-library/clc-country-coverage-1990-2018-v20_1). However, due to their specific methodology not all countries are producing revised version of the previous inventory.  The revision of previous CLC layer is a “by-product” of the standard updating process, including corrections to the original data identified during the update. Revisions (correcting mistakes) are needed because of the following factors: \\n- availability of higher resolution satellite imagery;\\n- a new satellite image or time series of satellite imagery provides additional key to correctly recognise a feature;\\n- improved availability and better quality of in-situ data;\\n- improved skills of experts, i.e. better understanding and application of CLC nomenclature;\\n- decision of the national team to improve the product between two inventories.\\n\\nThese revisions are not propagated backward to older datasets (e.g. during CLC2018 revision of CLC2012 might be provided, but the older datasets were not revised). Thus, consecutive inventories might include not only real changes, but also differences due to revisions. Therefore, it is recommended that in time series analysis CLC-Change layers should be used. If status layers from past are needed, these could be derived backward from deducting CLC-Change layers from the latest (best available) status layer as it is done for EEA accounting layers (see at https://www.eea.europa.eu/data-and-maps/data/corine-land-cover-accounting-layers)\\nMore details to be available soon in upcoming \"Users\\' Manual for all Copernicus data” document. \\nVersion 20_1\\nRelease date: 24-02-2020\\nFile naming conventions simplified and better described. New file naming convention has been introduced based on user feedback on version 20. Filename is composed of combination of information about update campaign, data theme and reference year and version specification (including release year and release number). \\nSee https://land.copernicus.eu/user-corner/technical-library/clc-file-naming-conventions-guide-v20_1 for details.\\n\\nThe French DOMs are provided in separate databases (files both for vector and raster version of data).\\n\\nAll raster layers are back in 8 bit GeoTIFF. Modification is introduced based on the user feedback on version 20. In order to keep 8 bit resolution for raster change layers, they are divided into two files - representing consumption (from) and formation (to) part of change.\\n\\nSee https://land.copernicus.eu/user-corner/technical-library/clc-country-coverage-1990-2018-v20_1 for full information about the coverage of this version.\\nSee http://land.copernicus.eu/user-corner/technical-library/clc-and-clcc-release-lineage for full information about lineage history.'}}}}},\n",
       " 'ORIGINAL_URL': '../CLC_samples/U2018_CLC2018_V2020_20u1.xml'}"
      ]
     },
     "execution_count": 18,
     "metadata": {},
     "output_type": "execute_result"
    }
   ],
   "source": [
    "xml_path = '../CLC_samples/U2018_CLC2018_V2020_20u1.xml'\n",
    "\n",
    "get_metadata(xml_path)\n"
   ]
  },
  {
   "cell_type": "code",
   "execution_count": 9,
   "metadata": {},
   "outputs": [],
   "source": [
    "def xml_to_dict(xml, result):\n",
    "    for child in xml:\n",
    "        if len(child) == 0:\n",
    "            result[child.tag] = child.text\n",
    "        else:\n",
    "            if child.tag in result:\n",
    "                if not isinstance(result[child.tag], list):\n",
    "                    result[child.tag] = [result[child.tag]]\n",
    "                result[child.tag].append(xml_to_dict(child, {}))\n",
    "            else:\n",
    "                result[child.tag] = xml_to_dict(child, {})\n",
    "    return result\n"
   ]
  },
  {
   "cell_type": "code",
   "execution_count": 10,
   "metadata": {},
   "outputs": [
    {
     "data": {
      "text/plain": [
       "{'{http://www.isotc211.org/2005/gmd}fileIdentifier': {'{http://www.isotc211.org/2005/gco}CharacterString': '7e162b2d-5196-41b2-b6dd-e889651e2f1f'},\n",
       " '{http://www.isotc211.org/2005/gmd}language': {'{http://www.isotc211.org/2005/gmd}LanguageCode': None},\n",
       " '{http://www.isotc211.org/2005/gmd}characterSet': {'{http://www.isotc211.org/2005/gmd}MD_CharacterSetCode': None},\n",
       " '{http://www.isotc211.org/2005/gmd}hierarchyLevel': {'{http://www.isotc211.org/2005/gmd}MD_ScopeCode': None},\n",
       " '{http://www.isotc211.org/2005/gmd}contact': {'{http://www.isotc211.org/2005/gmd}CI_ResponsibleParty': {'{http://www.isotc211.org/2005/gmd}organisationName': {'{http://www.isotc211.org/2005/gco}CharacterString': 'European Environment Agency'},\n",
       "   '{http://www.isotc211.org/2005/gmd}contactInfo': {'{http://www.isotc211.org/2005/gmd}CI_Contact': {'{http://www.isotc211.org/2005/gmd}address': {'{http://www.isotc211.org/2005/gmd}CI_Address': {'{http://www.isotc211.org/2005/gmd}deliveryPoint': {'{http://www.isotc211.org/2005/gco}CharacterString': 'Kongens Nytorv 6'},\n",
       "       '{http://www.isotc211.org/2005/gmd}city': {'{http://www.isotc211.org/2005/gco}CharacterString': 'Copenhagen'},\n",
       "       '{http://www.isotc211.org/2005/gmd}administrativeArea': {'{http://www.isotc211.org/2005/gco}CharacterString': 'K'},\n",
       "       '{http://www.isotc211.org/2005/gmd}postalCode': {'{http://www.isotc211.org/2005/gco}CharacterString': '1050'},\n",
       "       '{http://www.isotc211.org/2005/gmd}country': {'{http://www.isotc211.org/2005/gco}CharacterString': 'Denmark'},\n",
       "       '{http://www.isotc211.org/2005/gmd}electronicMailAddress': {'{http://www.isotc211.org/2005/gco}CharacterString': 'sdi@eea.europa.eu'}}}}},\n",
       "   '{http://www.isotc211.org/2005/gmd}role': {'{http://www.isotc211.org/2005/gmd}CI_RoleCode': None}}},\n",
       " '{http://www.isotc211.org/2005/gmd}dateStamp': {'{http://www.isotc211.org/2005/gco}DateTime': '2019-12-18T22:18:54'},\n",
       " '{http://www.isotc211.org/2005/gmd}metadataStandardName': {'{http://www.isotc211.org/2005/gco}CharacterString': 'ISO 19115:2003/19139'},\n",
       " '{http://www.isotc211.org/2005/gmd}metadataStandardVersion': {'{http://www.isotc211.org/2005/gco}CharacterString': '1.0'},\n",
       " '{http://www.isotc211.org/2005/gmd}referenceSystemInfo': {'{http://www.isotc211.org/2005/gmd}MD_ReferenceSystem': {'{http://www.isotc211.org/2005/gmd}referenceSystemIdentifier': {'{http://www.isotc211.org/2005/gmd}RS_Identifier': {'{http://www.isotc211.org/2005/gmd}code': {'{http://www.isotc211.org/2005/gmx}Anchor': 'EPSG:3035'}}}}},\n",
       " '{http://www.isotc211.org/2005/gmd}identificationInfo': {'{http://www.isotc211.org/2005/gmd}MD_DataIdentification': {'{http://www.isotc211.org/2005/gmd}citation': {'{http://www.isotc211.org/2005/gmd}CI_Citation': {'{http://www.isotc211.org/2005/gmd}title': {'{http://www.isotc211.org/2005/gco}CharacterString': 'Corine Land Cover (CLC) 2018, Version 2020 20_1'},\n",
       "     '{http://www.isotc211.org/2005/gmd}date': {'{http://www.isotc211.org/2005/gmd}CI_Date': {'{http://www.isotc211.org/2005/gmd}date': {'{http://www.isotc211.org/2005/gco}Date': '2020-02-24'},\n",
       "       '{http://www.isotc211.org/2005/gmd}dateType': {'{http://www.isotc211.org/2005/gmd}CI_DateTypeCode': None}}},\n",
       "     '{http://www.isotc211.org/2005/gmd}edition': {'{http://www.isotc211.org/2005/gco}CharacterString': '20_1'},\n",
       "     '{http://www.isotc211.org/2005/gmd}identifier': {'{http://www.isotc211.org/2005/gmd}MD_Identifier': {'{http://www.isotc211.org/2005/gmd}code': {'{http://www.isotc211.org/2005/gco}CharacterString': 'Corine Land Cover (CLC) 2018, Version 2020 20_1'}}}}},\n",
       "   '{http://www.isotc211.org/2005/gmd}abstract': {'{http://www.isotc211.org/2005/gco}CharacterString': 'CLC2018 is one of the Corine Land Cover (CLC) datasets produced within the frame the Copernicus Land Monitoring Service referring to land cover / land use status of year 2018. CLC service has a long-time heritage (formerly known as \"CORINE Land Cover Programme\"), coordinated by the European Environment Agency (EEA). It provides consistent and thematically detailed information on land cover and land cover changes across Europe. \\nCLC datasets are based on the classification of satellite images produced by the national teams of the participating countries - the EEA members and cooperating countries (EEA39). National CLC inventories are then further integrated into a seamless land cover map of Europe. The resulting European database relies on standard methodology and nomenclature with following base parameters: 44 classes in the hierarchical 3-level CLC nomenclature; minimum mapping unit (MMU) for status layers is 25 hectares; minimum width of linear elements is 100 metres. Change layers have higher resolution, i.e. minimum mapping unit (MMU) is 5 hectares for Land Cover Changes (LCC), and the minimum width of linear elements is 100 metres. The CLC service delivers important data sets supporting the implementation of key priority areas of the Environment Action Programmes of the European Union as e.g. protecting ecosystems, halting the loss of biological diversity, tracking the impacts of climate change, monitoring urban land take, assessing developments in agriculture or dealing with water resources directives.  CLC belongs to the Pan-European component of the Copernicus Land Monitoring Service (https://land.copernicus.eu/), part of the European Copernicus Programme coordinated by the European Environment Agency, providing environmental information from a combination of air- and space-based observation systems and in-situ monitoring. Additional information about CLC product description including mapping guides can be found at https://land.copernicus.eu/user-corner/technical-library/clc2018technicalguidelines_final.pdf. CLC class descriptions can be found at https://land.copernicus.eu/user-corner/technical-library/corine-land-cover-nomenclature-guidelines/html/.'},\n",
       "   '{http://www.isotc211.org/2005/gmd}pointOfContact': [{'{http://www.isotc211.org/2005/gmd}CI_ResponsibleParty': {'{http://www.isotc211.org/2005/gmd}organisationName': {'{http://www.isotc211.org/2005/gco}CharacterString': 'European Environment Agency (EEA) under the framework of the Copernicus programme'},\n",
       "      '{http://www.isotc211.org/2005/gmd}contactInfo': {'{http://www.isotc211.org/2005/gmd}CI_Contact': {'{http://www.isotc211.org/2005/gmd}address': {'{http://www.isotc211.org/2005/gmd}CI_Address': {'{http://www.isotc211.org/2005/gmd}deliveryPoint': {'{http://www.isotc211.org/2005/gco}CharacterString': 'Kongens Nytorv 6'},\n",
       "          '{http://www.isotc211.org/2005/gmd}city': {'{http://www.isotc211.org/2005/gco}CharacterString': 'Copenhagen'},\n",
       "          '{http://www.isotc211.org/2005/gmd}administrativeArea': {'{http://www.isotc211.org/2005/gco}CharacterString': 'K'},\n",
       "          '{http://www.isotc211.org/2005/gmd}postalCode': {'{http://www.isotc211.org/2005/gco}CharacterString': '1050'},\n",
       "          '{http://www.isotc211.org/2005/gmd}country': {'{http://www.isotc211.org/2005/gco}CharacterString': 'Denmark'},\n",
       "          '{http://www.isotc211.org/2005/gmd}electronicMailAddress': {'{http://www.isotc211.org/2005/gco}CharacterString': 'copernicus@eea.europa.eu'}}},\n",
       "        '{http://www.isotc211.org/2005/gmd}onlineResource': {'{http://www.isotc211.org/2005/gmd}CI_OnlineResource': {'{http://www.isotc211.org/2005/gmd}linkage': {'{http://www.isotc211.org/2005/gmd}URL': 'http://www.eea.europa.eu'},\n",
       "          '{http://www.isotc211.org/2005/gmd}protocol': {'{http://www.isotc211.org/2005/gco}CharacterString': 'WWW:LINK-1.0-http--link'},\n",
       "          '{http://www.isotc211.org/2005/gmd}name': {'{http://www.isotc211.org/2005/gco}CharacterString': 'European Environment Agency public website'},\n",
       "          '{http://www.isotc211.org/2005/gmd}function': {'{http://www.isotc211.org/2005/gmd}CI_OnLineFunctionCode': None}}}}},\n",
       "      '{http://www.isotc211.org/2005/gmd}role': {'{http://www.isotc211.org/2005/gmd}CI_RoleCode': None}}},\n",
       "    {'{http://www.isotc211.org/2005/gmd}CI_ResponsibleParty': {'{http://www.isotc211.org/2005/gmd}individualName': {'{http://www.isotc211.org/2005/gco}CharacterString': None},\n",
       "      '{http://www.isotc211.org/2005/gmd}organisationName': {'{http://www.isotc211.org/2005/gco}CharacterString': None},\n",
       "      '{http://www.isotc211.org/2005/gmd}positionName': {'{http://www.isotc211.org/2005/gco}CharacterString': None},\n",
       "      '{http://www.isotc211.org/2005/gmd}contactInfo': {'{http://www.isotc211.org/2005/gmd}CI_Contact': {'{http://www.isotc211.org/2005/gmd}phone': {'{http://www.isotc211.org/2005/gmd}CI_Telephone': {'{http://www.isotc211.org/2005/gmd}voice': {'{http://www.isotc211.org/2005/gco}CharacterString': None},\n",
       "          '{http://www.isotc211.org/2005/gmd}facsimile': {'{http://www.isotc211.org/2005/gco}CharacterString': None}}},\n",
       "        '{http://www.isotc211.org/2005/gmd}address': {'{http://www.isotc211.org/2005/gmd}CI_Address': {'{http://www.isotc211.org/2005/gmd}deliveryPoint': {'{http://www.isotc211.org/2005/gco}CharacterString': None},\n",
       "          '{http://www.isotc211.org/2005/gmd}city': {'{http://www.isotc211.org/2005/gco}CharacterString': None},\n",
       "          '{http://www.isotc211.org/2005/gmd}administrativeArea': {'{http://www.isotc211.org/2005/gco}CharacterString': None},\n",
       "          '{http://www.isotc211.org/2005/gmd}postalCode': {'{http://www.isotc211.org/2005/gco}CharacterString': None},\n",
       "          '{http://www.isotc211.org/2005/gmd}country': {'{http://www.isotc211.org/2005/gco}CharacterString': None},\n",
       "          '{http://www.isotc211.org/2005/gmd}electronicMailAddress': {'{http://www.isotc211.org/2005/gco}CharacterString': None}}}}},\n",
       "      '{http://www.isotc211.org/2005/gmd}role': {'{http://www.isotc211.org/2005/gmd}CI_RoleCode': None}}}],\n",
       "   '{http://www.isotc211.org/2005/gmd}resourceMaintenance': {'{http://www.isotc211.org/2005/gmd}MD_MaintenanceInformation': {'{http://www.isotc211.org/2005/gmd}maintenanceAndUpdateFrequency': {'{http://www.isotc211.org/2005/gmd}MD_MaintenanceFrequencyCode': None}}},\n",
       "   '{http://www.isotc211.org/2005/gmd}graphicOverview': {'{http://www.isotc211.org/2005/gmd}MD_BrowseGraphic': {'{http://www.isotc211.org/2005/gmd}fileName': {'{http://www.isotc211.org/2005/gco}CharacterString': 'https://sdi.eea.europa.eu/public/catalogue-graphic-overview/blank.png'}}},\n",
       "   '{http://www.isotc211.org/2005/gmd}descriptiveKeywords': [{'{http://www.isotc211.org/2005/gmd}MD_Keywords': {'{http://www.isotc211.org/2005/gmd}keyword': {'{http://www.isotc211.org/2005/gmx}Anchor': None},\n",
       "      '{http://www.isotc211.org/2005/gmd}type': {'{http://www.isotc211.org/2005/gmd}MD_KeywordTypeCode': None},\n",
       "      '{http://www.isotc211.org/2005/gmd}thesaurusName': {'{http://www.isotc211.org/2005/gmd}CI_Citation': {'{http://www.isotc211.org/2005/gmd}title': {'{http://www.isotc211.org/2005/gmx}Anchor': 'GEMET - INSPIRE themes, version 1.0'},\n",
       "        '{http://www.isotc211.org/2005/gmd}date': {'{http://www.isotc211.org/2005/gmd}CI_Date': {'{http://www.isotc211.org/2005/gmd}date': {'{http://www.isotc211.org/2005/gco}Date': '2008-06-01'},\n",
       "          '{http://www.isotc211.org/2005/gmd}dateType': {'{http://www.isotc211.org/2005/gmd}CI_DateTypeCode': None}}},\n",
       "        '{http://www.isotc211.org/2005/gmd}identifier': {'{http://www.isotc211.org/2005/gmd}MD_Identifier': {'{http://www.isotc211.org/2005/gmd}code': {'{http://www.isotc211.org/2005/gmx}Anchor': 'geonetwork.thesaurus.external.theme.httpinspireeceuropaeutheme-theme'}}}}}}},\n",
       "    {'{http://www.isotc211.org/2005/gmd}MD_Keywords': {'{http://www.isotc211.org/2005/gmd}keyword': {'{http://www.isotc211.org/2005/gco}CharacterString': 'Copernicus Land Satellite Image Interpretation 2018 Corine Land Cover Raster CLC Polygon'},\n",
       "      '{http://www.isotc211.org/2005/gmd}thesaurusName': {'{http://www.isotc211.org/2005/gmd}CI_Citation': {'{http://www.isotc211.org/2005/gmd}title': {'{http://www.isotc211.org/2005/gco}CharacterString': 'EEA keyword list'},\n",
       "        '{http://www.isotc211.org/2005/gmd}date': {'{http://www.isotc211.org/2005/gmd}CI_Date': {'{http://www.isotc211.org/2005/gmd}date': {'{http://www.isotc211.org/2005/gco}Date': '2002-03-01'},\n",
       "          '{http://www.isotc211.org/2005/gmd}dateType': {'{http://www.isotc211.org/2005/gmd}CI_DateTypeCode': None}}}}}}},\n",
       "    {'{http://www.isotc211.org/2005/gmd}MD_Keywords': {'{http://www.isotc211.org/2005/gmd}keyword': {'{http://www.isotc211.org/2005/gco}CharacterString': 'geospatial data'},\n",
       "      '{http://www.isotc211.org/2005/gmd}type': {'{http://www.isotc211.org/2005/gmd}MD_KeywordTypeCode': None},\n",
       "      '{http://www.isotc211.org/2005/gmd}thesaurusName': {'{http://www.isotc211.org/2005/gmd}CI_Citation': {'{http://www.isotc211.org/2005/gmd}title': {'{http://www.isotc211.org/2005/gco}CharacterString': 'EEA categories'},\n",
       "        '{http://www.isotc211.org/2005/gmd}date': {'{http://www.isotc211.org/2005/gmd}CI_Date': {'{http://www.isotc211.org/2005/gmd}date': {'{http://www.isotc211.org/2005/gco}Date': '2010-07-06'},\n",
       "          '{http://www.isotc211.org/2005/gmd}dateType': {'{http://www.isotc211.org/2005/gmd}CI_DateTypeCode': None}}},\n",
       "        '{http://www.isotc211.org/2005/gmd}identifier': {'{http://www.isotc211.org/2005/gmd}MD_Identifier': {'{http://www.isotc211.org/2005/gmd}code': {'{http://www.isotc211.org/2005/gmx}Anchor': 'geonetwork.thesaurus.local.theme.eea-categories'}}}}}}},\n",
       "    {'{http://www.isotc211.org/2005/gmd}MD_Keywords': {'{http://www.isotc211.org/2005/gmd}keyword': {'{http://www.isotc211.org/2005/gco}CharacterString': None},\n",
       "      '{http://www.isotc211.org/2005/gmd}type': {'{http://www.isotc211.org/2005/gmd}MD_KeywordTypeCode': None},\n",
       "      '{http://www.isotc211.org/2005/gmd}thesaurusName': {'{http://www.isotc211.org/2005/gmd}CI_Citation': {'{http://www.isotc211.org/2005/gmd}title': {'{http://www.isotc211.org/2005/gco}CharacterString': 'GEMET'},\n",
       "        '{http://www.isotc211.org/2005/gmd}date': {'{http://www.isotc211.org/2005/gmd}CI_Date': {'{http://www.isotc211.org/2005/gmd}date': {'{http://www.isotc211.org/2005/gco}Date': '2018-08-16'},\n",
       "          '{http://www.isotc211.org/2005/gmd}dateType': {'{http://www.isotc211.org/2005/gmd}CI_DateTypeCode': None}}},\n",
       "        '{http://www.isotc211.org/2005/gmd}identifier': {'{http://www.isotc211.org/2005/gmd}MD_Identifier': {'{http://www.isotc211.org/2005/gmd}code': {'{http://www.isotc211.org/2005/gmx}Anchor': 'geonetwork.thesaurus.external.theme.gemet'}}}}}}},\n",
       "    {'{http://www.isotc211.org/2005/gmd}MD_Keywords': {'{http://www.isotc211.org/2005/gmd}keyword': {'{http://www.isotc211.org/2005/gco}CharacterString': 'Albania, Austria, Belgium, Bosnia and Herzegovina, Bulgaria, Croatia, Cyprus, Czech Republic, Denmark, Estonia, Finland, France, Germany, Greece, Hungary, Iceland, Ireland, Italy, Kosovo, Latvia, Liechtenstein, Lithuania, Luxembourg, Malta, Montenegro, Netherlands, North Macedonia, Norway, Poland, Portugal, Romania, Serbia, Slovakia, Slovenia, Spain, Sweden, Switzerland, Turkey, United Kingdom'},\n",
       "      '{http://www.isotc211.org/2005/gmd}type': {'{http://www.isotc211.org/2005/gmd}MD_KeywordTypeCode': None},\n",
       "      '{http://www.isotc211.org/2005/gmd}thesaurusName': {'{http://www.isotc211.org/2005/gmd}CI_Citation': {'{http://www.isotc211.org/2005/gmd}title': {'{http://www.isotc211.org/2005/gco}CharacterString': 'Continents, countries, sea regions of the world'},\n",
       "        '{http://www.isotc211.org/2005/gmd}date': {'{http://www.isotc211.org/2005/gmd}CI_Date': {'{http://www.isotc211.org/2005/gmd}date': {'{http://www.isotc211.org/2005/gco}Date': '2015-07-17'},\n",
       "          '{http://www.isotc211.org/2005/gmd}dateType': {'{http://www.isotc211.org/2005/gmd}CI_DateTypeCode': None}}},\n",
       "        '{http://www.isotc211.org/2005/gmd}identifier': {'{http://www.isotc211.org/2005/gmd}MD_Identifier': {'{http://www.isotc211.org/2005/gmd}code': {'{http://www.isotc211.org/2005/gmx}Anchor': 'geonetwork.thesaurus.external.place.regions'}}}}}}}],\n",
       "   '{http://www.isotc211.org/2005/gmd}resourceConstraints': [{'{http://www.isotc211.org/2005/gmd}MD_LegalConstraints': {'{http://www.isotc211.org/2005/gmd}accessConstraints': {'{http://www.isotc211.org/2005/gco}CharacterString': \"Access to data is based on a principle of full, open and free access as established by the Copernicus data and information policy Regulation (EU) No 1159/2013 of 12 July 2013. This regulation establishes registration and licensing conditions for GMES/Copernicus users and can be found on http://eur-lex.europa.eu/legal-content/EN/TXT/?uri=CELEX%3A32013R1159. Free, full and open access to this data set is made on the conditions that: 1. When distributing or communicating Copernicus dedicated data and Copernicus service information to the public, users shall inform the public of the source of that data and information. 2. Users shall make sure not to convey the impression to the public that the user's activities are officially endorsed by the Union. 3. Where that data or information has been adapted or modified, the user shall clearly state this. 4. The data remain the sole property of the European Union. Any information and data produced in the framework of the action shall be the sole property of the European Union. Any communication and publication by the beneficiary shall acknowledge that the data were produced “with funding by the European Union”.\"},\n",
       "      '{http://www.isotc211.org/2005/gmd}otherConstraints': {'{http://www.isotc211.org/2005/gmx}Anchor': 'no limitations to public access'}}},\n",
       "    {'{http://www.isotc211.org/2005/gmd}MD_LegalConstraints': {'{http://www.isotc211.org/2005/gmd}useConstraints': {'{http://www.isotc211.org/2005/gmd}MD_RestrictionCode': None}}}],\n",
       "   '{http://www.isotc211.org/2005/gmd}language': {'{http://www.isotc211.org/2005/gmd}LanguageCode': None},\n",
       "   '{http://www.isotc211.org/2005/gmd}topicCategory': [{'{http://www.isotc211.org/2005/gmd}MD_TopicCategoryCode': 'environment'},\n",
       "    {'{http://www.isotc211.org/2005/gmd}MD_TopicCategoryCode': 'imageryBaseMapsEarthCover'}],\n",
       "   '{http://www.isotc211.org/2005/gmd}extent': [{'{http://www.isotc211.org/2005/gmd}EX_Extent': {'{http://www.isotc211.org/2005/gmd}geographicElement': {'{http://www.isotc211.org/2005/gmd}EX_GeographicBoundingBox': {'{http://www.isotc211.org/2005/gmd}westBoundLongitude': {'{http://www.isotc211.org/2005/gco}Decimal': '-31.561261'},\n",
       "        '{http://www.isotc211.org/2005/gmd}eastBoundLongitude': {'{http://www.isotc211.org/2005/gco}Decimal': '44.820775'},\n",
       "        '{http://www.isotc211.org/2005/gmd}southBoundLatitude': {'{http://www.isotc211.org/2005/gco}Decimal': '27.405827'},\n",
       "        '{http://www.isotc211.org/2005/gmd}northBoundLatitude': {'{http://www.isotc211.org/2005/gco}Decimal': '71.409109'}}},\n",
       "      '{http://www.isotc211.org/2005/gmd}temporalElement': {'{http://www.isotc211.org/2005/gmd}EX_TemporalExtent': {'{http://www.isotc211.org/2005/gmd}extent': {'{http://www.opengis.net/gml/3.2}TimePeriod': {'{http://www.opengis.net/gml/3.2}beginPosition': '2017-01-01',\n",
       "          '{http://www.opengis.net/gml/3.2}endPosition': '2018-12-31'}}}}}},\n",
       "    {'{http://www.isotc211.org/2005/gmd}EX_Extent': {'{http://www.isotc211.org/2005/gmd}temporalElement': None}}]}},\n",
       " '{http://www.isotc211.org/2005/gmd}distributionInfo': {'{http://www.isotc211.org/2005/gmd}MD_Distribution': {'{http://www.isotc211.org/2005/gmd}distributionFormat': {'{http://www.isotc211.org/2005/gmd}MD_Format': {'{http://www.isotc211.org/2005/gmd}name': {'{http://www.isotc211.org/2005/gco}CharacterString': None},\n",
       "     '{http://www.isotc211.org/2005/gmd}version': {'{http://www.isotc211.org/2005/gco}CharacterString': None}}},\n",
       "   '{http://www.isotc211.org/2005/gmd}distributor': None,\n",
       "   '{http://www.isotc211.org/2005/gmd}transferOptions': [{'{http://www.isotc211.org/2005/gmd}MD_DigitalTransferOptions': {'{http://www.isotc211.org/2005/gmd}onLine': {'{http://www.isotc211.org/2005/gmd}CI_OnlineResource': {'{http://www.isotc211.org/2005/gmd}linkage': {'{http://www.isotc211.org/2005/gmd}URL': 'http://land.copernicus.eu/pan-european/corine-land-cover/clc2018/view'},\n",
       "        '{http://www.isotc211.org/2005/gmd}protocol': {'{http://www.isotc211.org/2005/gco}CharacterString': 'WWW:LINK-1.0-http--link'},\n",
       "        '{http://www.isotc211.org/2005/gmd}function': {'{http://www.isotc211.org/2005/gmd}CI_OnLineFunctionCode': None}}}}},\n",
       "    {'{http://www.isotc211.org/2005/gmd}MD_DigitalTransferOptions': None}]}},\n",
       " '{http://www.isotc211.org/2005/gmd}dataQualityInfo': {'{http://www.isotc211.org/2005/gmd}DQ_DataQuality': {'{http://www.isotc211.org/2005/gmd}scope': {'{http://www.isotc211.org/2005/gmd}DQ_Scope': {'{http://www.isotc211.org/2005/gmd}level': {'{http://www.isotc211.org/2005/gmd}MD_ScopeCode': None}}},\n",
       "   '{http://www.isotc211.org/2005/gmd}report': {'{http://www.isotc211.org/2005/gmd}DQ_DomainConsistency': {'{http://www.isotc211.org/2005/gmd}result': {'{http://www.isotc211.org/2005/gmd}DQ_ConformanceResult': {'{http://www.isotc211.org/2005/gmd}specification': {'{http://www.isotc211.org/2005/gmd}CI_Citation': {'{http://www.isotc211.org/2005/gmd}title': {'{http://www.isotc211.org/2005/gco}CharacterString': 'Commission Regulation (EU) No 1089/2010 of 23 November 2010 implementing Directive 2007/2/EC of the European Parliament and of the Council as regards interoperability of spatial data sets and services'},\n",
       "         '{http://www.isotc211.org/2005/gmd}date': {'{http://www.isotc211.org/2005/gmd}CI_Date': {'{http://www.isotc211.org/2005/gmd}date': {'{http://www.isotc211.org/2005/gco}Date': '2010-12-08'},\n",
       "           '{http://www.isotc211.org/2005/gmd}dateType': {'{http://www.isotc211.org/2005/gmd}CI_DateTypeCode': None}}}}},\n",
       "       '{http://www.isotc211.org/2005/gmd}explanation': {'{http://www.isotc211.org/2005/gco}CharacterString': 'See the referenced specification'},\n",
       "       '{http://www.isotc211.org/2005/gmd}pass': None}}}},\n",
       "   '{http://www.isotc211.org/2005/gmd}lineage': {'{http://www.isotc211.org/2005/gmd}LI_Lineage': {'{http://www.isotc211.org/2005/gmd}statement': {'{http://www.isotc211.org/2005/gco}CharacterString': 'CLC products are based in majority of EEA39 countries on the photointerpretation of satellite images by the national teams of the participating countries - the EEA member and cooperating countries. All features in original vector database are delineated and classified on satellite images according to CLC specifications i.e. with better than 100 m positional accuracy and 25 ha minimum mapping unit (5 ha MMU for change layer) into the standardized CLC nomenclature (44 CLC classes). The change layer is derived from satellite imagery by direct mapping of changes taken place between two consecutive inventories, based on image-to-image comparison. Some countries follow alternative approaches by utilizing semiautomatic methodology e.g. generalisation of higher resolution national datasets. Production of national CLC inventories is supported by training and is under systematic control of the CLC Technical Team, both for thematic and semantic aspects, to assure harmonized European products. The process of European data integration starts when national deliveries are accepted and the Database Acceptance Report (DBTA) issued. National CLC data are then transformed into the common European reference (ETRS89/LAEA) and pan-European seamless dataset is produced. Integration step includes also harmonization of database along country borders. Rigorous harmonization of country borders has been done only for CLC2000 and CHA9000 layers (in 2 km wide strips along borders) as part of CLC2000 update. Currently, only simplified harmonisation is applied i.e. small border polygons (area < 5 ha) are generalised according to predefined rules to largest and/or thematically most similar neighbour, sliver polygons along borders (< 0.1 ha) are eliminated. European Corine Land Cover seamless database represents the final product of European data integration. Some artificial lines (dividing polygons with the same code) can be still present in database due to technical constraints of current ArcGIS technology and complexity of dataset (adaptive tiling) but this has no impact on dataset contents and can be dissolved for smaller data extracts.\\nRevised versions\\nStarted from the publication of CLC2006 (Version 16) the previous inventory is substituted by its revised version by most of the participating countries (see CLC seamless data coverage table https://land.copernicus.eu/user-corner/technical-library/clc-country-coverage-1990-2018-v20_1). However, due to their specific methodology not all countries are producing revised version of the previous inventory.  The revision of previous CLC layer is a “by-product” of the standard updating process, including corrections to the original data identified during the update. Revisions (correcting mistakes) are needed because of the following factors: \\n- availability of higher resolution satellite imagery;\\n- a new satellite image or time series of satellite imagery provides additional key to correctly recognise a feature;\\n- improved availability and better quality of in-situ data;\\n- improved skills of experts, i.e. better understanding and application of CLC nomenclature;\\n- decision of the national team to improve the product between two inventories.\\n\\nThese revisions are not propagated backward to older datasets (e.g. during CLC2018 revision of CLC2012 might be provided, but the older datasets were not revised). Thus, consecutive inventories might include not only real changes, but also differences due to revisions. Therefore, it is recommended that in time series analysis CLC-Change layers should be used. If status layers from past are needed, these could be derived backward from deducting CLC-Change layers from the latest (best available) status layer as it is done for EEA accounting layers (see at https://www.eea.europa.eu/data-and-maps/data/corine-land-cover-accounting-layers)\\nMore details to be available soon in upcoming \"Users\\' Manual for all Copernicus data” document. \\nVersion 20_1\\nRelease date: 24-02-2020\\nFile naming conventions simplified and better described. New file naming convention has been introduced based on user feedback on version 20. Filename is composed of combination of information about update campaign, data theme and reference year and version specification (including release year and release number). \\nSee https://land.copernicus.eu/user-corner/technical-library/clc-file-naming-conventions-guide-v20_1 for details.\\n\\nThe French DOMs are provided in separate databases (files both for vector and raster version of data).\\n\\nAll raster layers are back in 8 bit GeoTIFF. Modification is introduced based on the user feedback on version 20. In order to keep 8 bit resolution for raster change layers, they are divided into two files - representing consumption (from) and formation (to) part of change.\\n\\nSee https://land.copernicus.eu/user-corner/technical-library/clc-country-coverage-1990-2018-v20_1 for full information about the coverage of this version.\\nSee http://land.copernicus.eu/user-corner/technical-library/clc-and-clcc-release-lineage for full information about lineage history.'}}}}}}"
      ]
     },
     "execution_count": 10,
     "metadata": {},
     "output_type": "execute_result"
    }
   ],
   "source": [
    "xml_to_dict(tree.getroot(), {})"
   ]
  },
  {
   "cell_type": "code",
   "execution_count": 118,
   "metadata": {},
   "outputs": [
    {
     "data": {
      "text/plain": [
       "BoundingBox(left=-23.825993823627275, bottom=24.28417701147754, right=104.35721125172725, top=80.00331843607006)"
      ]
     },
     "execution_count": 118,
     "metadata": {},
     "output_type": "execute_result"
    }
   ],
   "source": [
    "# bbox coordinates become meaningless...\n",
    "\n",
    "crs = rio.crs.CRS(img.crs)\n",
    "bounds = img.bounds\n",
    "\n",
    "transformer = Transformer.from_crs(crs.to_epsg(), 4326)\n",
    "miny, minx = transformer.transform(bounds.left, bounds.bottom)\n",
    "maxy, maxx = transformer.transform(bounds.right, bounds.top)\n",
    "bbox = (minx, miny, maxx, maxy)\n",
    "\n",
    "rio.coords.BoundingBox(*bbox)\n"
   ]
  },
  {
   "cell_type": "code",
   "execution_count": 105,
   "metadata": {},
   "outputs": [
    {
     "data": {
      "text/plain": [
       "BoundingBox(left=24.28417701147754, bottom=-23.825993823627275, right=80.00331843607006, top=104.35721125172725)"
      ]
     },
     "execution_count": 105,
     "metadata": {},
     "output_type": "execute_result"
    }
   ],
   "source": [
    "crs = CRS(img.crs)\n",
    "bounds = img.bounds\n",
    "\n",
    "transformer = Transformer.from_crs(crs.to_epsg(), 4326)\n",
    "miny, minx = transformer.transform(bounds.left, bounds.bottom)\n",
    "maxy, maxx = transformer.transform(bounds.right, bounds.top)\n",
    "bbox = (miny, minx, maxy, maxx)\n",
    "# bbox = (minx, miny, maxx, maxy)\n",
    "rio.coords.BoundingBox(*bbox)"
   ]
  },
  {
   "cell_type": "code",
   "execution_count": 98,
   "metadata": {},
   "outputs": [
    {
     "data": {
      "text/plain": [
       "BoundingBox(left=24.28417701147754, bottom=-180.0, right=90.0, top=180.0)"
      ]
     },
     "execution_count": 98,
     "metadata": {},
     "output_type": "execute_result"
    }
   ],
   "source": [
    "# wrong order...\n",
    "from pyproj import Transformer\n",
    "\n",
    "transformer = Transformer.from_crs(img.crs.to_epsg(), \"EPSG:4326\")\n",
    "rio.coords.BoundingBox(*transformer.transform_bounds(*img.bounds))"
   ]
  },
  {
   "cell_type": "code",
   "execution_count": 119,
   "metadata": {},
   "outputs": [
    {
     "data": {
      "text/plain": [
       "BoundingBox(left=-56.50514190170437, bottom=24.28417701147754, right=72.90613675900903, top=72.63376966542347)"
      ]
     },
     "execution_count": 119,
     "metadata": {},
     "output_type": "execute_result"
    }
   ],
   "source": [
    "# correct order...\n",
    "from rasterio.crs import CRS\n",
    "\n",
    "rio.coords.BoundingBox(*rio.warp.transform_bounds(img.crs, CRS.from_epsg(4326), *img.bounds))"
   ]
  }
 ],
 "metadata": {
  "kernelspec": {
   "display_name": ".venv",
   "language": "python",
   "name": "python3"
  },
  "language_info": {
   "codemirror_mode": {
    "name": "ipython",
    "version": 3
   },
   "file_extension": ".py",
   "mimetype": "text/x-python",
   "name": "python",
   "nbconvert_exporter": "python",
   "pygments_lexer": "ipython3",
   "version": "3.11.3"
  }
 },
 "nbformat": 4,
 "nbformat_minor": 2
}
