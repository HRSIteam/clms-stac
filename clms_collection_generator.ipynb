{
 "cells": [
  {
   "cell_type": "code",
   "execution_count": 1,
   "metadata": {},
   "outputs": [],
   "source": [
    "import os\n",
    "import re\n",
    "\n",
    "import pystac\n",
    "import pystac.item\n",
    "import pystac.link\n",
    "from pystac.provider import ProviderRole\n",
    "from pystac.extensions.projection import ProjectionExtension\n"
   ]
  },
  {
   "cell_type": "code",
   "execution_count": 8,
   "metadata": {},
   "outputs": [],
   "source": [
    "WORKING_DIR = os.getcwd()\n",
    "STAC_DIR = 'stac_tests'\n",
    "COLLECTION_ID = 'corine-land-cover-raster'\n",
    "COLLECTION_TITLE = \"CORINE Land Cover Raster\"\n",
    "COLLECTION_DESCRIPTION = (\"The European Commission launched the CORINE (Coordination of Information on the Environment) \"\n",
    "                          \"program in an effort to develop a standardized methodology for producing continent-scale land \"\n",
    "                          \"cover, biotope, and air quality maps. The CORINE Land Cover (CLC) product offers a pan-European \"\n",
    "                          \"land cover and land use inventory with 44 thematic classes, ranging from broad forested areas \"\n",
    "                          \"to individual vineyards.\")\n",
    "\n",
    "\n",
    "\n",
    "# CLMS_CATALOG_LINK = pystac.link.Link(\n",
    "#     rel=pystac.RelType.ROOT, target=pystac.STACObject.from_file(os.path.join(WORKING_DIR, \"stacs/clms_catalog.json\"))\n",
    "# )\n",
    "# COLLECTION_LINK = pystac.link.Link(\n",
    "#     rel=pystac.RelType.COLLECTION,\n",
    "#     target=pystac.STACObject.from_file(os.path.join(WORKING_DIR, f\"stacs/{COLLECTION_ID}/{COLLECTION_ID}.json\")),\n",
    "# )\n",
    "# ITEM_PARENT_LINK = pystac.link.Link(\n",
    "#     rel=pystac.RelType.PARENT,\n",
    "#     target=pystac.STACObject.from_file(os.path.join(WORKING_DIR, f\"stacs/{COLLECTION_ID}/{COLLECTION_ID}.json\")),\n",
    "# )"
   ]
  },
  {
   "cell_type": "code",
   "execution_count": 9,
   "metadata": {},
   "outputs": [],
   "source": [
    "\n",
    "sp_extent = pystac.SpatialExtent([None, None, None, None])\n",
    "tmp_extent = pystac.TemporalExtent([\"1990-01-01T00:00:00.000Z\", None])\n",
    "extent = pystac.Extent(sp_extent,  tmp_extent)\n",
    "\n",
    "collection = pystac.Collection(id=COLLECTION_ID,\n",
    "                               description=COLLECTION_DESCRIPTION,\n",
    "                               title=COLLECTION_TITLE,\n",
    "                               extent=extent,\n",
    "                               )"
   ]
  },
  {
   "cell_type": "code",
   "execution_count": 6,
   "metadata": {},
   "outputs": [],
   "source": []
  },
  {
   "cell_type": "code",
   "execution_count": null,
   "metadata": {},
   "outputs": [],
   "source": []
  }
 ],
 "metadata": {
  "kernelspec": {
   "display_name": "stacdev",
   "language": "python",
   "name": "stacdev"
  },
  "language_info": {
   "codemirror_mode": {
    "name": "ipython",
    "version": 3
   },
   "file_extension": ".py",
   "mimetype": "text/x-python",
   "name": "python",
   "nbconvert_exporter": "python",
   "pygments_lexer": "ipython3",
   "version": "3.12.3"
  }
 },
 "nbformat": 4,
 "nbformat_minor": 2
}
