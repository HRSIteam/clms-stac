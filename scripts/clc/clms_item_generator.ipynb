{
 "cells": [
  {
   "cell_type": "code",
   "execution_count": 1,
   "metadata": {},
   "outputs": [],
   "source": [
    "import os\n",
    "import re\n",
    "\n",
    "import pystac\n",
    "import pystac.item\n",
    "import pystac.link\n",
    "from pystac.provider import ProviderRole\n",
    "from pystac.extensions.projection import ProjectionExtension\n",
    "from pystac.extensions.item_assets import AssetDefinition\n",
    "\n",
    "from pyproj import Transformer\n",
    "from shapely.geometry import GeometryCollection, box, shape, mapping\n",
    "from datetime import datetime, UTC\n",
    "\n",
    "import rasterio as rio\n",
    "from rasterio.warp import Resampling\n",
    "import rasterio.warp\n",
    "import rasterio.crs\n",
    "\n",
    "import xml.etree.cElementTree as ET\n",
    "from xml.dom import minidom"
   ]
  },
  {
   "cell_type": "code",
   "execution_count": 2,
   "metadata": {},
   "outputs": [],
   "source": [
    "from constants import *\n",
    "# from .constants import STAC_DIR, COLLECTION_ID"
   ]
  },
  {
   "cell_type": "code",
   "execution_count": 40,
   "metadata": {},
   "outputs": [],
   "source": [
    "# img_path = 'X:/EO/u2018_clc2012_v2020_20u1_raster100m/DATA/U2018_CLC2012_V2020_20u1.tif'\n",
    "# os.path.split(img_path)"
   ]
  },
  {
   "cell_type": "code",
   "execution_count": 41,
   "metadata": {},
   "outputs": [],
   "source": [
    "# # This goes into constants.py ...\n",
    "\n",
    "# STAC_DIR = 'stac_tests'\n",
    "# COLLECTION_ID = 'corine-land-cover-raster'\n",
    "\n",
    "# DOM_DICT = {\n",
    "#     'GLP': 'Guadeloupe',\n",
    "#     'GUF': 'French Guyana',\n",
    "#     'MTQ': 'Martinique',\n",
    "#     'MYT': 'Mayotte',\n",
    "#     'REU': 'Réunion',\n",
    "#     '': 'Europe',\n",
    "# }\n",
    "\n",
    "# MEDIA_TYPE_DICT = {\n",
    "#     'tif': pystac.MediaType.COG,\n",
    "#     'tif_xml': pystac.MediaType.XML,\n",
    "#     'tif_aux_xml': pystac.MediaType.XML,\n",
    "#     'tif_ovr': 'image/tiff; application=geotiff; profile=pyramid',\n",
    "#     'tif_vat_cpg': pystac.MediaType.TEXT,\n",
    "#     'tif_vat_dbf': 'application/dbf',\n",
    "#     'txt': pystac.MediaType.TEXT,\n",
    "#     'tif_lyr': 'image/tiff; application=geotiff; profile=layer',\n",
    "#     'tfw': pystac.MediaType.TEXT,\n",
    "#     'xml': pystac.MediaType.XML,\n",
    "# }\n",
    "\n",
    "# ROLES_DICT = {\n",
    "#     'tif': ['data', 'visual'],\n",
    "#     'tif_xml': ['metadata'],\n",
    "#     'tif_aux_xml': ['metadata'],\n",
    "#     'tif_ovr': ['metadata'],\n",
    "#     'tif_vat_cpg': ['metadata'],\n",
    "#     'tif_vat_dbf': ['metadata'],\n",
    "#     'txt': ['metadata'],\n",
    "#     'tif_lyr': ['metadata'],\n",
    "#     'tfw': ['metadata'],\n",
    "#     'xml': ['metadata'],\n",
    "# }\n",
    "\n",
    "# TITLE_DICT = {\n",
    "#     'tif': 'Single Band Land Classification {label}',\n",
    "#     'tif_xml': 'TIFF Metadata {label}',\n",
    "#     'tif_aux_xml': 'TIFF Statistics {label}',\n",
    "#     'tif_ovr': 'Pyramid {label}',\n",
    "#     'tif_vat_cpg': 'Encoding {label}',\n",
    "#     'tif_vat_dbf': 'Database {label}',\n",
    "#     'txt': 'Legends {label}',\n",
    "#     'tif_lyr': 'Legend Layer {label}',\n",
    "#     'tfw': 'World File {label}',\n",
    "#     'xml': 'Single Band Land Classification Metadata {label}',\n",
    "# }\n",
    "\n",
    "# CLC_PROVIDER = pystac.provider.Provider(\n",
    "#     name='Copernicus Land Monitoring Service',\n",
    "#     description=('The Copernicus Land Monitoring Service provides '\n",
    "#                 'geographical information on land cover and its '\n",
    "#                 'changes, land use, ground motions, vegetation state, '\n",
    "#                 'water cycle and Earth\\'s surface energy variables to '\n",
    "#                 'a broad range of users in Europe and across the World '\n",
    "#                 'in the field of environmental terrestrial applications.'),\n",
    "#     roles=[ProviderRole.LICENSOR, ProviderRole.HOST],\n",
    "#     url='https://land.copernicus.eu'\n",
    "# )\n",
    "\n",
    "\n",
    "# ITEM_DESCRIPTION = ('Corine Land Cover {year} (CLC{year}) is one of the Corine Land Cover (CLC) ' \n",
    "#                     'datasets produced within the frame the Copernicus Land Monitoring Service '\n",
    "#                     'referring to land cover / land use status of year {year}. '\n",
    "#                     'CLC service has a long-time heritage (formerly known as \\\"CORINE Land Cover Programme\\\"), '\n",
    "#                     'coordinated by the European Environment Agency (EEA). It provides consistent '\n",
    "#                     'and thematically detailed information on land cover and land cover changes across Europe. '\n",
    "#                     'CLC datasets are based on the classification of satellite images produced by the national '\n",
    "#                     'teams of the participating countries - the EEA members and cooperating countries (EEA39). '\n",
    "#                     'National CLC inventories are then further integrated into a seamless land cover map of Europe. '\n",
    "#                     'The resulting European database relies on standard methodology and nomenclature with following '\n",
    "#                     'base parameters: 44 classes in the hierarchical 3-level CLC nomenclature; '\n",
    "#                     'minimum mapping unit (MMU) for status layers is 25 hectares; '\n",
    "#                     'minimum width of linear elements is 100 metres. '\n",
    "#                     'Change layers have higher resolution, i.e. minimum mapping unit (MMU) is 5 hectares '\n",
    "#                     'for Land Cover Changes (LCC), and the minimum width of linear elements is 100 metres. '\n",
    "#                     'The CLC service delivers important data sets supporting the implementation of key priority '\n",
    "#                     'areas of the Environment Action Programmes of the European Union as e.g. protecting ecosystems, '\n",
    "#                     'halting the loss of biological diversity, tracking the impacts of climate change, '\n",
    "#                     'monitoring urban land take, assessing developments in agriculture or dealing with '\n",
    "#                     'water resources directives. CLC belongs to the Pan-European component of the '\n",
    "#                     'Copernicus Land Monitoring Service (https://land.copernicus.eu/), part of the '\n",
    "#                     'European Copernicus Programme coordinated by the European Environment Agency, '\n",
    "#                     'providing environmental information from a combination of air- and space-based observation '\n",
    "#                     'systems and in-situ monitoring. Additional information about CLC product description including '\n",
    "#                     'mapping guides can be found at https://land.copernicus.eu/user-corner/technical-library/. '\n",
    "#                     'CLC class descriptions can be found at '\n",
    "#                     'https://land.copernicus.eu/user-corner/technical-library/corine-land-cover-nomenclature-guidelines/html/.')\n"
   ]
  },
  {
   "cell_type": "code",
   "execution_count": 3,
   "metadata": {},
   "outputs": [],
   "source": [
    "'''\n",
    "def deconstruct_clc_name(filename: str):\n",
    "    id = os.path.basename(filename).split('.')[0]\n",
    "    p = re.compile((\"U(?P<update_campaign>[0-9]{4})_\"\n",
    "                    \"(?P<theme>CLC|CHA)(?P<reference_year>[0-9]{4})_\"\n",
    "                    \"V(?P<release_year>[0-9]{4})_(?P<release_number>[0-9a-z]*)\"\n",
    "                    \"_?(?P<country_code>[A-Z]*)?\"\n",
    "                    \"_?(?P<DOM_code>[A-Z]*)?\"))\n",
    "    m = p.search(id)\n",
    "\n",
    "    return(m.groupdict())\n",
    "'''\n",
    "\n",
    "def deconstruct_clc_name(filename: str):\n",
    "    p = re.compile('^(?P<id>[A-Z0-9a-z_]*).(?P<suffix>.*)$')\n",
    "    m = p.search(os.path.basename(filename))\n",
    "\n",
    "    filename_split = m.groupdict()\n",
    "\n",
    "    p = re.compile((\"U(?P<update_campaign>[0-9]{4})_\"\n",
    "                    \"(?P<theme>CLC|CHA)(?P<reference_year>[0-9]{4})_\"\n",
    "                    \"V(?P<release_year>[0-9]{4})_(?P<release_number>[0-9a-z]*)\"\n",
    "                    \"_?(?P<country_code>[A-Z]*)?\"\n",
    "                    \"_?(?P<DOM_code>[A-Z]*)?\"))\n",
    "    m = p.search(filename_split['id'])\n",
    "    \n",
    "    if m:\n",
    "        return(m.groupdict() | filename_split)\n",
    "    else:\n",
    "        return(filename_split)\n",
    "\n",
    "\n",
    "def create_asset(filename: str, DOM_code: str):\n",
    "    filename_elements = deconstruct_clc_name(filename)\n",
    "    suffix = filename_elements['suffix'].replace('.', '_')\n",
    "    \n",
    "    label = DOM_DICT[DOM_code]\n",
    "    \n",
    "    asset = pystac.Asset(href=filename, title=TITLE_DICT[suffix].format(label=label), media_type=MEDIA_TYPE_DICT[suffix], roles=ROLES_DICT[suffix])\n",
    "    return(f\"{filename_elements['id']}_{suffix}\", asset)\n",
    "\n",
    "def get_img_paths(path: str):    \n",
    "    img_paths=[]\n",
    "    for root, dirs, files in os.walk(path):\n",
    "        if root.endswith(('DATA', 'French_DOMs')):\n",
    "            for file in files:\n",
    "                if file.endswith('.tif'):\n",
    "                    img_paths.append(os.path.join(root, file))\n",
    "\n",
    "    return(img_paths)\n",
    "\n",
    "# Not needed anymore, part of deconstruct_clc_name...\n",
    "# def extract_clc_name(path: str):\n",
    "#     clc_name = os.path.basename(path).split('.')[0]\n",
    "#     return(clc_name)\n",
    "\n",
    "# def get_asset_files(path, clc_name):\n",
    "\n",
    "#     clc_name_elements = deconstruct_clc_name(clc_name)\n",
    "\n",
    "#     asset_files = []\n",
    "    \n",
    "#     for root, dirs, files in os.walk(path):\n",
    "#         if not clc_name_elements['DOM_code'] and 'French_DOMs' in root:\n",
    "#             continue\n",
    "        \n",
    "#         if clc_name_elements['DOM_code'] and ('Legend' in root and not 'French_DOMs' in root):\n",
    "#             continue\n",
    "        \n",
    "#         for file in files:\n",
    "#             if (file.startswith(clc_name + '.') or \n",
    "#                 file.endswith((f'{clc_name_elements[\"DOM_code\"]}.tif.lyr', 'QGIS.txt',)) and \n",
    "#                 clc_name in file):\n",
    "#                 asset_files.append(os.path.join(root, file))\n",
    "\n",
    "#     return(asset_files)\n",
    " \n",
    "\n",
    "# def get_asset_files(path: str, clc_name: str) -> list[str]:\n",
    "\n",
    "#     clc_name_elements = deconstruct_clc_name(clc_name)\n",
    "\n",
    "#     asset_files = []\n",
    "    \n",
    "#     for root, dirs, files in os.walk(path):\n",
    "#         if not clc_name_elements['DOM_code'] and 'French_DOMs' in root:\n",
    "#             continue\n",
    "        \n",
    "#         if clc_name_elements['DOM_code'] and ('Legend' in root and not 'French_DOMs' in root):\n",
    "#             continue\n",
    "        \n",
    "#         for file in files:\n",
    "#             # print(root, file)\n",
    "#             if (file.startswith(clc_name_elements['id'] + '.') or \n",
    "#                 file.endswith((f'{clc_name_elements['DOM_code']}.tif.lyr', 'QGIS.txt',)) and clc_name_elements['id'].lower() in root or\n",
    "#                 file == f'readme_{clc_name_elements['id']}.txt'):\n",
    "                \n",
    "#                 asset_files.append(os.path.join(root, file))        \n",
    "\n",
    "#     return asset_files\n",
    "\n",
    "def get_asset_files(data_root: str, img_path: str) -> list[str]:\n",
    "\n",
    "    clc_name_elements = deconstruct_clc_name(img_path)\n",
    "    id = clc_name_elements['id']\n",
    "    dom_code = clc_name_elements['DOM_code']\n",
    "\n",
    "    asset_files = []\n",
    "    \n",
    "    for root, _, files in os.walk(data_root):\n",
    "        if not dom_code and 'French_DOMs' in root:\n",
    "           continue\n",
    "\n",
    "        if dom_code and 'Legend' in root and not 'French_DOMs' in root:\n",
    "            continue\n",
    "        \n",
    "        if not 'U{update_campaign}_{theme}{reference_year}_V{release_year}'.format(**clc_name_elements).lower() in root:\n",
    "            continue\n",
    "    \n",
    "        for file in files:\n",
    "\n",
    "            if (file.startswith(id + '.') or \n",
    "                file.endswith(f'{dom_code}.tif.lyr') or \n",
    "                file.endswith('QGIS.txt',) or \n",
    "                file == f'readme_{id}.txt'):\n",
    "\n",
    "                asset_files.append(os.path.join(root, file))\n",
    "\n",
    "    return asset_files\n",
    "\n",
    "\n",
    "def project_bbox(img, target_epsg=4326):\n",
    "    target_crs = rio.crs.CRS.from_epsg(target_epsg)\n",
    "    bbox_warped = rio.warp.transform_bounds(img.crs, target_crs, *img.bounds)\n",
    "    return(bbox_warped)\n",
    "\n",
    "def create_item(img_path, root):\n",
    "\n",
    "    clc_name_elements = deconstruct_clc_name(img_path)\n",
    "\n",
    "    asset_files = get_asset_files(root, clc_name=os.path.basename(img_path))\n",
    "    asset_files = [f for f in asset_files if not f.endswith('aux')]\n",
    "    year = clc_name_elements.get('reference_year')\n",
    "    props = {'description': ITEM_DESCRIPTION.format(year=year),\n",
    "            'created': None,\n",
    "            'providers': CLC_PROVIDER.to_dict(),\n",
    "    }\n",
    "\n",
    "    with rio.open(img_path) as img:\n",
    "\n",
    "        bbox = project_bbox(img)\n",
    "        params = {\n",
    "            'id': clc_name_elements.get('id'),\n",
    "            'bbox': bbox,\n",
    "            'geometry': mapping(box(*bbox)),\n",
    "            'datetime': None,\n",
    "            'start_datetime': datetime(int(year), 1, 1, microsecond=0, tzinfo=UTC),\n",
    "            'end_datetime': datetime(int(year), 12, 31, microsecond=0, tzinfo=UTC),\n",
    "            'properties': props,\n",
    "        }\n",
    "\n",
    "    item = pystac.Item(**params)\n",
    "    \n",
    "    for asset_file in asset_files:\n",
    "        # print(asset_file)\n",
    "        key, asset = create_asset(asset_file, DOM_code=clc_name_elements.get('DOM_code'))\n",
    "        item.add_asset(\n",
    "            key=key,\n",
    "            asset=asset,\n",
    "        )\n",
    "\n",
    "    proj_ext = ProjectionExtension.ext(item.assets[os.path.basename(img_path).replace('.', '_')], add_if_missing=True)\n",
    "    proj_ext.apply(epsg=rio.crs.CRS(img.crs).to_epsg(),\n",
    "                   bbox=img.bounds,\n",
    "                   shape=[_ for _ in img.shape],\n",
    "                   transform=[_ for _ in img.transform] + [0.0, 0.0, 1.0],\n",
    "                   )\n",
    "\n",
    "    # license = pystac.link.Link(rel='LICENSE', target=\"https://land.copernicus.eu/en/data-policy\")\n",
    "    # item.add_link(license)\n",
    "    links = [CLMS_LICENSE, CLMS_CATALOG_LINK, ITEM_PARENT_LINK, COLLECTION_LINK]\n",
    "    item.add_links(links)\n",
    "\n",
    "    return item\n",
    "\n"
   ]
  },
  {
   "cell_type": "code",
   "execution_count": 4,
   "metadata": {},
   "outputs": [
    {
     "data": {
      "text/plain": [
       "'x:\\\\projects\\\\ETC-DI\\\\Task_18\\\\clms-stac\\\\scripts\\\\clc'"
      ]
     },
     "execution_count": 4,
     "metadata": {},
     "output_type": "execute_result"
    }
   ],
   "source": [
    "os.getcwd()"
   ]
  },
  {
   "cell_type": "code",
   "execution_count": 8,
   "metadata": {},
   "outputs": [],
   "source": [
    "if '':\n",
    "    print('buh')"
   ]
  },
  {
   "cell_type": "code",
   "execution_count": 5,
   "metadata": {},
   "outputs": [
    {
     "name": "stdout",
     "output_type": "stream",
     "text": [
      "['../../../CLC_100m\\\\u2018_clc2012_v2020_20u1_raster100m\\\\DATA\\\\U2018_CLC2012_V2020_20u1.tif', '../../../CLC_100m\\\\u2018_clc2012_v2020_20u1_raster100m\\\\DATA\\\\French_DOMs\\\\U2018_CLC2012_V2020_20u1_FR_GLP.tif', '../../../CLC_100m\\\\u2018_clc2012_v2020_20u1_raster100m\\\\DATA\\\\French_DOMs\\\\U2018_CLC2012_V2020_20u1_FR_GUF.tif', '../../../CLC_100m\\\\u2018_clc2012_v2020_20u1_raster100m\\\\DATA\\\\French_DOMs\\\\U2018_CLC2012_V2020_20u1_FR_MTQ.tif', '../../../CLC_100m\\\\u2018_clc2012_v2020_20u1_raster100m\\\\DATA\\\\French_DOMs\\\\U2018_CLC2012_V2020_20u1_FR_MYT.tif', '../../../CLC_100m\\\\u2018_clc2012_v2020_20u1_raster100m\\\\DATA\\\\French_DOMs\\\\U2018_CLC2012_V2020_20u1_FR_REU.tif', '../../../CLC_100m\\\\u2018_clc2018_v2020_20u1_raster100m\\\\DATA\\\\U2018_CLC2018_V2020_20u1.tif', '../../../CLC_100m\\\\u2018_clc2018_v2020_20u1_raster100m\\\\DATA\\\\French_DOMs\\\\U2018_CLC2018_V2020_20u1_FR_GLP.tif', '../../../CLC_100m\\\\u2018_clc2018_v2020_20u1_raster100m\\\\DATA\\\\French_DOMs\\\\U2018_CLC2018_V2020_20u1_FR_GUF.tif', '../../../CLC_100m\\\\u2018_clc2018_v2020_20u1_raster100m\\\\DATA\\\\French_DOMs\\\\U2018_CLC2018_V2020_20u1_FR_MTQ.tif', '../../../CLC_100m\\\\u2018_clc2018_v2020_20u1_raster100m\\\\DATA\\\\French_DOMs\\\\U2018_CLC2018_V2020_20u1_FR_MYT.tif', '../../../CLC_100m\\\\u2018_clc2018_v2020_20u1_raster100m\\\\DATA\\\\French_DOMs\\\\U2018_CLC2018_V2020_20u1_FR_REU.tif']\n"
     ]
    }
   ],
   "source": [
    "root = '../../../CLC_100m'\n",
    "\n",
    "img_paths = get_img_paths(path=root)\n",
    "print(img_paths)\n",
    "# for img_path in img_paths:\n",
    "\n",
    "img_path = img_paths[0]\n",
    "\n",
    "# get_asset_files(root, deconstruct_clc_name(img_path)['id'])"
   ]
  },
  {
   "cell_type": "code",
   "execution_count": 103,
   "metadata": {},
   "outputs": [
    {
     "name": "stdout",
     "output_type": "stream",
     "text": [
      "U2018_CLC2012_V2020_20u1 ../../../CLC_100m\\u2018_clc2012_v2020_20u1_raster100m\\DATA\\U2018_CLC2012_V2020_20u1.tif\n",
      "U2018_CLC2012_V2020_20u1.tfw u2018_clc2012_v2020_20u1 ../../../CLC_100m\\u2018_clc2012_v2020_20u1_raster100m\\DATA\n",
      "U2018_CLC2012_V2020_20u1.tif u2018_clc2012_v2020_20u1 ../../../CLC_100m\\u2018_clc2012_v2020_20u1_raster100m\\DATA\n",
      "U2018_CLC2012_V2020_20u1.tif.aux.xml u2018_clc2012_v2020_20u1 ../../../CLC_100m\\u2018_clc2012_v2020_20u1_raster100m\\DATA\n",
      "U2018_CLC2012_V2020_20u1.tif.ovr u2018_clc2012_v2020_20u1 ../../../CLC_100m\\u2018_clc2012_v2020_20u1_raster100m\\DATA\n",
      "U2018_CLC2012_V2020_20u1.tif.vat.cpg u2018_clc2012_v2020_20u1 ../../../CLC_100m\\u2018_clc2012_v2020_20u1_raster100m\\DATA\n",
      "U2018_CLC2012_V2020_20u1.tif.vat.dbf u2018_clc2012_v2020_20u1 ../../../CLC_100m\\u2018_clc2012_v2020_20u1_raster100m\\DATA\n",
      "U2018_CLC2012_V2020_20u1.tif.xml u2018_clc2012_v2020_20u1 ../../../CLC_100m\\u2018_clc2012_v2020_20u1_raster100m\\DATA\n",
      "readme_U2018_CLC2012_V2020_20u1.txt u2018_clc2012_v2020_20u1 ../../../CLC_100m\\u2018_clc2012_v2020_20u1_raster100m\\Documents\n",
      "CLC2018_CLC2012_V2018_20.tif.lyr u2018_clc2012_v2020_20u1 ../../../CLC_100m\\u2018_clc2012_v2020_20u1_raster100m\\Legend\n",
      "CLC2018_CLC2012_V2018_20_QGIS.txt u2018_clc2012_v2020_20u1 ../../../CLC_100m\\u2018_clc2012_v2020_20u1_raster100m\\Legend\n",
      "U2018_CLC2012_V2020_20u1.xml u2018_clc2012_v2020_20u1 ../../../CLC_100m\\u2018_clc2012_v2020_20u1_raster100m\\Metadata\n"
     ]
    },
    {
     "data": {
      "text/plain": [
       "['../../../CLC_100m\\\\u2018_clc2012_v2020_20u1_raster100m\\\\DATA\\\\U2018_CLC2012_V2020_20u1.tfw',\n",
       " '../../../CLC_100m\\\\u2018_clc2012_v2020_20u1_raster100m\\\\DATA\\\\U2018_CLC2012_V2020_20u1.tif',\n",
       " '../../../CLC_100m\\\\u2018_clc2012_v2020_20u1_raster100m\\\\DATA\\\\U2018_CLC2012_V2020_20u1.tif.aux.xml',\n",
       " '../../../CLC_100m\\\\u2018_clc2012_v2020_20u1_raster100m\\\\DATA\\\\U2018_CLC2012_V2020_20u1.tif.ovr',\n",
       " '../../../CLC_100m\\\\u2018_clc2012_v2020_20u1_raster100m\\\\DATA\\\\U2018_CLC2012_V2020_20u1.tif.vat.cpg',\n",
       " '../../../CLC_100m\\\\u2018_clc2012_v2020_20u1_raster100m\\\\DATA\\\\U2018_CLC2012_V2020_20u1.tif.vat.dbf',\n",
       " '../../../CLC_100m\\\\u2018_clc2012_v2020_20u1_raster100m\\\\DATA\\\\U2018_CLC2012_V2020_20u1.tif.xml',\n",
       " '../../../CLC_100m\\\\u2018_clc2012_v2020_20u1_raster100m\\\\Documents\\\\readme_U2018_CLC2012_V2020_20u1.txt',\n",
       " '../../../CLC_100m\\\\u2018_clc2012_v2020_20u1_raster100m\\\\Legend\\\\CLC2018_CLC2012_V2018_20.tif.lyr',\n",
       " '../../../CLC_100m\\\\u2018_clc2012_v2020_20u1_raster100m\\\\Legend\\\\CLC2018_CLC2012_V2018_20_QGIS.txt',\n",
       " '../../../CLC_100m\\\\u2018_clc2012_v2020_20u1_raster100m\\\\Metadata\\\\U2018_CLC2012_V2020_20u1.xml']"
      ]
     },
     "execution_count": 103,
     "metadata": {},
     "output_type": "execute_result"
    }
   ],
   "source": [
    "clc_name = deconstruct_clc_name(img_path)['id']\n",
    "print(clc_name, img_path)\n",
    "get_asset_files(root, img_path)\n",
    "# deconstruct_clc_name(img_path)"
   ]
  },
  {
   "cell_type": "code",
   "execution_count": 68,
   "metadata": {},
   "outputs": [
    {
     "data": {
      "text/plain": [
       "{'id': 'CLC2018_CLC2012_V2018_20_QGIS', 'suffix': 'txt'}"
      ]
     },
     "execution_count": 68,
     "metadata": {},
     "output_type": "execute_result"
    }
   ],
   "source": [
    "deconstruct_clc_name('CLC2018_CLC2012_V2018_20_QGIS.txt')"
   ]
  },
  {
   "cell_type": "code",
   "execution_count": 69,
   "metadata": {},
   "outputs": [
    {
     "ename": "NameError",
     "evalue": "name 'CLMS_CATALOG_LINK' is not defined",
     "output_type": "error",
     "traceback": [
      "\u001b[1;31m---------------------------------------------------------------------------\u001b[0m",
      "\u001b[1;31mNameError\u001b[0m                                 Traceback (most recent call last)",
      "Cell \u001b[1;32mIn[69], line 1\u001b[0m\n\u001b[1;32m----> 1\u001b[0m item \u001b[38;5;241m=\u001b[39m \u001b[43mcreate_item\u001b[49m\u001b[43m(\u001b[49m\u001b[43mimg_path\u001b[49m\u001b[43m,\u001b[49m\u001b[43m \u001b[49m\u001b[43mroot\u001b[49m\u001b[43m)\u001b[49m\n\u001b[0;32m      2\u001b[0m item\n",
      "Cell \u001b[1;32mIn[65], line 152\u001b[0m, in \u001b[0;36mcreate_item\u001b[1;34m(img_path, root)\u001b[0m\n\u001b[0;32m    144\u001b[0m proj_ext\u001b[38;5;241m.\u001b[39mapply(epsg\u001b[38;5;241m=\u001b[39mrio\u001b[38;5;241m.\u001b[39mcrs\u001b[38;5;241m.\u001b[39mCRS(img\u001b[38;5;241m.\u001b[39mcrs)\u001b[38;5;241m.\u001b[39mto_epsg(),\n\u001b[0;32m    145\u001b[0m                bbox\u001b[38;5;241m=\u001b[39mimg\u001b[38;5;241m.\u001b[39mbounds,\n\u001b[0;32m    146\u001b[0m                shape\u001b[38;5;241m=\u001b[39m[_ \u001b[38;5;28;01mfor\u001b[39;00m _ \u001b[38;5;129;01min\u001b[39;00m img\u001b[38;5;241m.\u001b[39mshape],\n\u001b[0;32m    147\u001b[0m                transform\u001b[38;5;241m=\u001b[39m[_ \u001b[38;5;28;01mfor\u001b[39;00m _ \u001b[38;5;129;01min\u001b[39;00m img\u001b[38;5;241m.\u001b[39mtransform] \u001b[38;5;241m+\u001b[39m [\u001b[38;5;241m0.0\u001b[39m, \u001b[38;5;241m0.0\u001b[39m, \u001b[38;5;241m1.0\u001b[39m],\n\u001b[0;32m    148\u001b[0m                )\n\u001b[0;32m    150\u001b[0m \u001b[38;5;66;03m# license = pystac.link.Link(rel='LICENSE', target=\"https://land.copernicus.eu/en/data-policy\")\u001b[39;00m\n\u001b[0;32m    151\u001b[0m \u001b[38;5;66;03m# item.add_link(license)\u001b[39;00m\n\u001b[1;32m--> 152\u001b[0m links \u001b[38;5;241m=\u001b[39m [CLMS_LICENSE, \u001b[43mCLMS_CATALOG_LINK\u001b[49m, ITEM_PARENT_LINK, COLLECTION_LINK]\n\u001b[0;32m    153\u001b[0m item\u001b[38;5;241m.\u001b[39madd_links(links)\n\u001b[0;32m    155\u001b[0m \u001b[38;5;28;01mreturn\u001b[39;00m item\n",
      "\u001b[1;31mNameError\u001b[0m: name 'CLMS_CATALOG_LINK' is not defined"
     ]
    }
   ],
   "source": [
    "item = create_item(img_path, root)\n",
    "item"
   ]
  },
  {
   "cell_type": "code",
   "execution_count": 12,
   "metadata": {},
   "outputs": [
    {
     "ename": "AttributeError",
     "evalue": "'Item' object has no attribute 'normalize_hrefs'",
     "output_type": "error",
     "traceback": [
      "\u001b[1;31m---------------------------------------------------------------------------\u001b[0m",
      "\u001b[1;31mAttributeError\u001b[0m                            Traceback (most recent call last)",
      "Cell \u001b[1;32mIn[12], line 4\u001b[0m\n\u001b[0;32m      1\u001b[0m \u001b[38;5;66;03m# import pystac.extensions\u001b[39;00m\n\u001b[0;32m      2\u001b[0m \u001b[38;5;66;03m# import pystac.extensions.projection\u001b[39;00m\n\u001b[1;32m----> 4\u001b[0m \u001b[43mitem\u001b[49m\u001b[38;5;241;43m.\u001b[39;49m\u001b[43mnormalize_hrefs\u001b[49m()\n",
      "\u001b[1;31mAttributeError\u001b[0m: 'Item' object has no attribute 'normalize_hrefs'"
     ]
    }
   ],
   "source": [
    "# import pystac.extensions\n",
    "# import pystac.extensions.projection\n",
    "\n",
    "item.normalize_hrefs()"
   ]
  },
  {
   "cell_type": "code",
   "execution_count": 72,
   "metadata": {},
   "outputs": [
    {
     "data": {
      "text/plain": [
       "{'bla': 'blu', 'blo': 42}"
      ]
     },
     "execution_count": 72,
     "metadata": {},
     "output_type": "execute_result"
    }
   ],
   "source": [
    "test_fun()"
   ]
  },
  {
   "cell_type": "code",
   "execution_count": 17,
   "metadata": {},
   "outputs": [
    {
     "ename": "FileNotFoundError",
     "evalue": "[Errno 2] No such file or directory: 'x:\\\\projects\\\\ETC-DI\\\\Task_18\\\\clms-stac\\\\scripts\\\\clc\\\\stacs/corine-land-cover-raster/corine-land-cover-raster.json'",
     "output_type": "error",
     "traceback": [
      "\u001b[1;31m---------------------------------------------------------------------------\u001b[0m",
      "\u001b[1;31mFileNotFoundError\u001b[0m                         Traceback (most recent call last)",
      "Cell \u001b[1;32mIn[17], line 9\u001b[0m\n\u001b[0;32m      1\u001b[0m WORKING_DIR \u001b[38;5;241m=\u001b[39m os\u001b[38;5;241m.\u001b[39mgetcwd()\n\u001b[0;32m      3\u001b[0m CLMS_CATALOG_LINK \u001b[38;5;241m=\u001b[39m pystac\u001b[38;5;241m.\u001b[39mlink\u001b[38;5;241m.\u001b[39mLink(\n\u001b[0;32m      4\u001b[0m     \u001b[38;5;66;03m# rel=pystac.RelType.ROOT, target=pystac.STACObject.from_file(os.path.join(WORKING_DIR, \"stacs/clms_catalog.json\"))\u001b[39;00m\n\u001b[0;32m      5\u001b[0m     rel\u001b[38;5;241m=\u001b[39mpystac\u001b[38;5;241m.\u001b[39mRelType\u001b[38;5;241m.\u001b[39mROOT, target\u001b[38;5;241m=\u001b[39mpystac\u001b[38;5;241m.\u001b[39mSTACObject\u001b[38;5;241m.\u001b[39mfrom_file(\u001b[38;5;124m\"\u001b[39m\u001b[38;5;124mx:\u001b[39m\u001b[38;5;130;01m\\\\\u001b[39;00m\u001b[38;5;124mprojects\u001b[39m\u001b[38;5;130;01m\\\\\u001b[39;00m\u001b[38;5;124mETC-DI\u001b[39m\u001b[38;5;130;01m\\\\\u001b[39;00m\u001b[38;5;124mTask_18\u001b[39m\u001b[38;5;130;01m\\\\\u001b[39;00m\u001b[38;5;124mclms-stac\u001b[39m\u001b[38;5;130;01m\\\\\u001b[39;00m\u001b[38;5;124mstacs\u001b[39m\u001b[38;5;130;01m\\\\\u001b[39;00m\u001b[38;5;124mclms_catalog.json\u001b[39m\u001b[38;5;124m\"\u001b[39m)\n\u001b[0;32m      6\u001b[0m )\n\u001b[0;32m      7\u001b[0m COLLECTION_LINK \u001b[38;5;241m=\u001b[39m pystac\u001b[38;5;241m.\u001b[39mlink\u001b[38;5;241m.\u001b[39mLink(\n\u001b[0;32m      8\u001b[0m     rel\u001b[38;5;241m=\u001b[39mpystac\u001b[38;5;241m.\u001b[39mRelType\u001b[38;5;241m.\u001b[39mCOLLECTION,\n\u001b[1;32m----> 9\u001b[0m     target\u001b[38;5;241m=\u001b[39m\u001b[43mpystac\u001b[49m\u001b[38;5;241;43m.\u001b[39;49m\u001b[43mSTACObject\u001b[49m\u001b[38;5;241;43m.\u001b[39;49m\u001b[43mfrom_file\u001b[49m\u001b[43m(\u001b[49m\u001b[43mos\u001b[49m\u001b[38;5;241;43m.\u001b[39;49m\u001b[43mpath\u001b[49m\u001b[38;5;241;43m.\u001b[39;49m\u001b[43mjoin\u001b[49m\u001b[43m(\u001b[49m\u001b[43mWORKING_DIR\u001b[49m\u001b[43m,\u001b[49m\u001b[43m \u001b[49m\u001b[38;5;124;43mf\u001b[39;49m\u001b[38;5;124;43m\"\u001b[39;49m\u001b[38;5;124;43mstacs/\u001b[39;49m\u001b[38;5;132;43;01m{\u001b[39;49;00m\u001b[43mCOLLECTION_ID\u001b[49m\u001b[38;5;132;43;01m}\u001b[39;49;00m\u001b[38;5;124;43m/\u001b[39;49m\u001b[38;5;132;43;01m{\u001b[39;49;00m\u001b[43mCOLLECTION_ID\u001b[49m\u001b[38;5;132;43;01m}\u001b[39;49;00m\u001b[38;5;124;43m.json\u001b[39;49m\u001b[38;5;124;43m\"\u001b[39;49m\u001b[43m)\u001b[49m\u001b[43m)\u001b[49m,\n\u001b[0;32m     10\u001b[0m )\n\u001b[0;32m     11\u001b[0m ITEM_PARENT_LINK \u001b[38;5;241m=\u001b[39m pystac\u001b[38;5;241m.\u001b[39mlink\u001b[38;5;241m.\u001b[39mLink(\n\u001b[0;32m     12\u001b[0m     rel\u001b[38;5;241m=\u001b[39mpystac\u001b[38;5;241m.\u001b[39mRelType\u001b[38;5;241m.\u001b[39mPARENT,\n\u001b[0;32m     13\u001b[0m     target\u001b[38;5;241m=\u001b[39mpystac\u001b[38;5;241m.\u001b[39mSTACObject\u001b[38;5;241m.\u001b[39mfrom_file(os\u001b[38;5;241m.\u001b[39mpath\u001b[38;5;241m.\u001b[39mjoin(WORKING_DIR, \u001b[38;5;124mf\u001b[39m\u001b[38;5;124m\"\u001b[39m\u001b[38;5;124mstacs/\u001b[39m\u001b[38;5;132;01m{\u001b[39;00mCOLLECTION_ID\u001b[38;5;132;01m}\u001b[39;00m\u001b[38;5;124m/\u001b[39m\u001b[38;5;132;01m{\u001b[39;00mCOLLECTION_ID\u001b[38;5;132;01m}\u001b[39;00m\u001b[38;5;124m.json\u001b[39m\u001b[38;5;124m\"\u001b[39m)),\n\u001b[0;32m     14\u001b[0m )\n\u001b[0;32m     16\u001b[0m item\u001b[38;5;241m.\u001b[39mset_self_href(os\u001b[38;5;241m.\u001b[39mpath\u001b[38;5;241m.\u001b[39mjoin(WORKING_DIR, \u001b[38;5;124mf\u001b[39m\u001b[38;5;124m\"\u001b[39m\u001b[38;5;132;01m{\u001b[39;00mSTAC_DIR\u001b[38;5;132;01m}\u001b[39;00m\u001b[38;5;124m/\u001b[39m\u001b[38;5;132;01m{\u001b[39;00mCOLLECTION_ID\u001b[38;5;132;01m}\u001b[39;00m\u001b[38;5;124m/\u001b[39m\u001b[38;5;132;01m{\u001b[39;00mitem\u001b[38;5;241m.\u001b[39mid\u001b[38;5;132;01m}\u001b[39;00m\u001b[38;5;124m/\u001b[39m\u001b[38;5;132;01m{\u001b[39;00mitem\u001b[38;5;241m.\u001b[39mid\u001b[38;5;132;01m}\u001b[39;00m\u001b[38;5;124m.json\u001b[39m\u001b[38;5;124m\"\u001b[39m))\n",
      "File \u001b[1;32mc:\\Users\\boeck\\AppData\\Local\\miniforge3\\envs\\stacdev\\Lib\\site-packages\\pystac\\stac_object.py:619\u001b[0m, in \u001b[0;36mSTACObject.from_file\u001b[1;34m(cls, href, stac_io)\u001b[0m\n\u001b[0;32m    607\u001b[0m \u001b[38;5;250m\u001b[39m\u001b[38;5;124;03m\"\"\"Reads a STACObject implementation from a file.\u001b[39;00m\n\u001b[0;32m    608\u001b[0m \n\u001b[0;32m    609\u001b[0m \u001b[38;5;124;03mArgs:\u001b[39;00m\n\u001b[1;32m   (...)\u001b[0m\n\u001b[0;32m    616\u001b[0m \u001b[38;5;124;03m    by the JSON read from the file located at HREF.\u001b[39;00m\n\u001b[0;32m    617\u001b[0m \u001b[38;5;124;03m\"\"\"\u001b[39;00m\n\u001b[0;32m    618\u001b[0m \u001b[38;5;28;01mif\u001b[39;00m \u001b[38;5;28mcls\u001b[39m \u001b[38;5;241m==\u001b[39m STACObject:\n\u001b[1;32m--> 619\u001b[0m     \u001b[38;5;28;01mreturn\u001b[39;00m cast(S, \u001b[43mpystac\u001b[49m\u001b[38;5;241;43m.\u001b[39;49m\u001b[43mread_file\u001b[49m\u001b[43m(\u001b[49m\u001b[43mhref\u001b[49m\u001b[43m)\u001b[49m)\n\u001b[0;32m    621\u001b[0m href \u001b[38;5;241m=\u001b[39m make_posix_style(href)\n\u001b[0;32m    623\u001b[0m \u001b[38;5;28;01mif\u001b[39;00m stac_io \u001b[38;5;129;01mis\u001b[39;00m \u001b[38;5;28;01mNone\u001b[39;00m:\n",
      "File \u001b[1;32mc:\\Users\\boeck\\AppData\\Local\\miniforge3\\envs\\stacdev\\Lib\\site-packages\\pystac\\__init__.py:165\u001b[0m, in \u001b[0;36mread_file\u001b[1;34m(href, stac_io)\u001b[0m\n\u001b[0;32m    163\u001b[0m \u001b[38;5;28;01mif\u001b[39;00m stac_io \u001b[38;5;129;01mis\u001b[39;00m \u001b[38;5;28;01mNone\u001b[39;00m:\n\u001b[0;32m    164\u001b[0m     stac_io \u001b[38;5;241m=\u001b[39m StacIO\u001b[38;5;241m.\u001b[39mdefault()\n\u001b[1;32m--> 165\u001b[0m \u001b[38;5;28;01mreturn\u001b[39;00m \u001b[43mstac_io\u001b[49m\u001b[38;5;241;43m.\u001b[39;49m\u001b[43mread_stac_object\u001b[49m\u001b[43m(\u001b[49m\u001b[43mhref\u001b[49m\u001b[43m)\u001b[49m\n",
      "File \u001b[1;32mc:\\Users\\boeck\\AppData\\Local\\miniforge3\\envs\\stacdev\\Lib\\site-packages\\pystac\\stac_io.py:234\u001b[0m, in \u001b[0;36mStacIO.read_stac_object\u001b[1;34m(self, source, root, *args, **kwargs)\u001b[0m\n\u001b[0;32m    208\u001b[0m \u001b[38;5;28;01mdef\u001b[39;00m \u001b[38;5;21mread_stac_object\u001b[39m(\n\u001b[0;32m    209\u001b[0m     \u001b[38;5;28mself\u001b[39m,\n\u001b[0;32m    210\u001b[0m     source: HREF,\n\u001b[1;32m   (...)\u001b[0m\n\u001b[0;32m    213\u001b[0m     \u001b[38;5;241m*\u001b[39m\u001b[38;5;241m*\u001b[39mkwargs: Any,\n\u001b[0;32m    214\u001b[0m ) \u001b[38;5;241m-\u001b[39m\u001b[38;5;241m>\u001b[39m STACObject:\n\u001b[0;32m    215\u001b[0m \u001b[38;5;250m    \u001b[39m\u001b[38;5;124;03m\"\"\"Read a STACObject from a JSON file at the given source.\u001b[39;00m\n\u001b[0;32m    216\u001b[0m \n\u001b[0;32m    217\u001b[0m \u001b[38;5;124;03m    See :func:`StacIO.read_text <pystac.StacIO.read_text>` for usage of\u001b[39;00m\n\u001b[1;32m   (...)\u001b[0m\n\u001b[0;32m    232\u001b[0m \u001b[38;5;124;03m        contained in the file at the given uri.\u001b[39;00m\n\u001b[0;32m    233\u001b[0m \u001b[38;5;124;03m    \"\"\"\u001b[39;00m\n\u001b[1;32m--> 234\u001b[0m     d \u001b[38;5;241m=\u001b[39m \u001b[38;5;28;43mself\u001b[39;49m\u001b[38;5;241;43m.\u001b[39;49m\u001b[43mread_json\u001b[49m\u001b[43m(\u001b[49m\u001b[43msource\u001b[49m\u001b[43m,\u001b[49m\u001b[43m \u001b[49m\u001b[38;5;241;43m*\u001b[39;49m\u001b[43margs\u001b[49m\u001b[43m,\u001b[49m\u001b[43m \u001b[49m\u001b[38;5;241;43m*\u001b[39;49m\u001b[38;5;241;43m*\u001b[39;49m\u001b[43mkwargs\u001b[49m\u001b[43m)\u001b[49m\n\u001b[0;32m    235\u001b[0m     \u001b[38;5;28;01mreturn\u001b[39;00m \u001b[38;5;28mself\u001b[39m\u001b[38;5;241m.\u001b[39mstac_object_from_dict(\n\u001b[0;32m    236\u001b[0m         d, href\u001b[38;5;241m=\u001b[39msource, root\u001b[38;5;241m=\u001b[39mroot, preserve_dict\u001b[38;5;241m=\u001b[39m\u001b[38;5;28;01mFalse\u001b[39;00m\n\u001b[0;32m    237\u001b[0m     )\n",
      "File \u001b[1;32mc:\\Users\\boeck\\AppData\\Local\\miniforge3\\envs\\stacdev\\Lib\\site-packages\\pystac\\stac_io.py:205\u001b[0m, in \u001b[0;36mStacIO.read_json\u001b[1;34m(self, source, *args, **kwargs)\u001b[0m\n\u001b[0;32m    188\u001b[0m \u001b[38;5;28;01mdef\u001b[39;00m \u001b[38;5;21mread_json\u001b[39m(\u001b[38;5;28mself\u001b[39m, source: HREF, \u001b[38;5;241m*\u001b[39margs: Any, \u001b[38;5;241m*\u001b[39m\u001b[38;5;241m*\u001b[39mkwargs: Any) \u001b[38;5;241m-\u001b[39m\u001b[38;5;241m>\u001b[39m \u001b[38;5;28mdict\u001b[39m[\u001b[38;5;28mstr\u001b[39m, Any]:\n\u001b[0;32m    189\u001b[0m \u001b[38;5;250m    \u001b[39m\u001b[38;5;124;03m\"\"\"Read a dict from the given source.\u001b[39;00m\n\u001b[0;32m    190\u001b[0m \n\u001b[0;32m    191\u001b[0m \u001b[38;5;124;03m    See :func:`StacIO.read_text <pystac.StacIO.read_text>` for usage of\u001b[39;00m\n\u001b[1;32m   (...)\u001b[0m\n\u001b[0;32m    203\u001b[0m \u001b[38;5;124;03m        given source.\u001b[39;00m\n\u001b[0;32m    204\u001b[0m \u001b[38;5;124;03m    \"\"\"\u001b[39;00m\n\u001b[1;32m--> 205\u001b[0m     txt \u001b[38;5;241m=\u001b[39m \u001b[38;5;28;43mself\u001b[39;49m\u001b[38;5;241;43m.\u001b[39;49m\u001b[43mread_text\u001b[49m\u001b[43m(\u001b[49m\u001b[43msource\u001b[49m\u001b[43m,\u001b[49m\u001b[43m \u001b[49m\u001b[38;5;241;43m*\u001b[39;49m\u001b[43margs\u001b[49m\u001b[43m,\u001b[49m\u001b[43m \u001b[49m\u001b[38;5;241;43m*\u001b[39;49m\u001b[38;5;241;43m*\u001b[39;49m\u001b[43mkwargs\u001b[49m\u001b[43m)\u001b[49m\n\u001b[0;32m    206\u001b[0m     \u001b[38;5;28;01mreturn\u001b[39;00m \u001b[38;5;28mself\u001b[39m\u001b[38;5;241m.\u001b[39mjson_loads(txt)\n",
      "File \u001b[1;32mc:\\Users\\boeck\\AppData\\Local\\miniforge3\\envs\\stacdev\\Lib\\site-packages\\pystac\\stac_io.py:282\u001b[0m, in \u001b[0;36mDefaultStacIO.read_text\u001b[1;34m(self, source, *_, **__)\u001b[0m\n\u001b[0;32m    277\u001b[0m \u001b[38;5;250m\u001b[39m\u001b[38;5;124;03m\"\"\"A concrete implementation of :meth:`StacIO.read_text\u001b[39;00m\n\u001b[0;32m    278\u001b[0m \u001b[38;5;124;03m<pystac.StacIO.read_text>`. Converts the ``source`` argument to a string (if it\u001b[39;00m\n\u001b[0;32m    279\u001b[0m \u001b[38;5;124;03mis not already) and delegates to :meth:`DefaultStacIO.read_text_from_href` for\u001b[39;00m\n\u001b[0;32m    280\u001b[0m \u001b[38;5;124;03mopening and reading the file.\"\"\"\u001b[39;00m\n\u001b[0;32m    281\u001b[0m href \u001b[38;5;241m=\u001b[39m \u001b[38;5;28mstr\u001b[39m(os\u001b[38;5;241m.\u001b[39mfspath(source))\n\u001b[1;32m--> 282\u001b[0m \u001b[38;5;28;01mreturn\u001b[39;00m \u001b[38;5;28;43mself\u001b[39;49m\u001b[38;5;241;43m.\u001b[39;49m\u001b[43mread_text_from_href\u001b[49m\u001b[43m(\u001b[49m\u001b[43mhref\u001b[49m\u001b[43m)\u001b[49m\n",
      "File \u001b[1;32mc:\\Users\\boeck\\AppData\\Local\\miniforge3\\envs\\stacdev\\Lib\\site-packages\\pystac\\stac_io.py:305\u001b[0m, in \u001b[0;36mDefaultStacIO.read_text_from_href\u001b[1;34m(self, href)\u001b[0m\n\u001b[0;32m    303\u001b[0m         \u001b[38;5;28;01mraise\u001b[39;00m \u001b[38;5;167;01mException\u001b[39;00m(\u001b[38;5;124mf\u001b[39m\u001b[38;5;124m\"\u001b[39m\u001b[38;5;124mCould not read uri \u001b[39m\u001b[38;5;132;01m{\u001b[39;00mhref\u001b[38;5;132;01m}\u001b[39;00m\u001b[38;5;124m\"\u001b[39m) \u001b[38;5;28;01mfrom\u001b[39;00m \u001b[38;5;21;01me\u001b[39;00m\n\u001b[0;32m    304\u001b[0m \u001b[38;5;28;01melse\u001b[39;00m:\n\u001b[1;32m--> 305\u001b[0m     \u001b[38;5;28;01mwith\u001b[39;00m \u001b[38;5;28;43mopen\u001b[39;49m\u001b[43m(\u001b[49m\u001b[43mhref\u001b[49m\u001b[43m,\u001b[49m\u001b[43m \u001b[49m\u001b[43mencoding\u001b[49m\u001b[38;5;241;43m=\u001b[39;49m\u001b[38;5;124;43m\"\u001b[39;49m\u001b[38;5;124;43mutf-8\u001b[39;49m\u001b[38;5;124;43m\"\u001b[39;49m\u001b[43m)\u001b[49m \u001b[38;5;28;01mas\u001b[39;00m f:\n\u001b[0;32m    306\u001b[0m         href_contents \u001b[38;5;241m=\u001b[39m f\u001b[38;5;241m.\u001b[39mread()\n\u001b[0;32m    307\u001b[0m \u001b[38;5;28;01mreturn\u001b[39;00m href_contents\n",
      "\u001b[1;31mFileNotFoundError\u001b[0m: [Errno 2] No such file or directory: 'x:\\\\projects\\\\ETC-DI\\\\Task_18\\\\clms-stac\\\\scripts\\\\clc\\\\stacs/corine-land-cover-raster/corine-land-cover-raster.json'"
     ]
    }
   ],
   "source": [
    "WORKING_DIR = os.getcwd()\n",
    "\n",
    "CLMS_CATALOG_LINK = pystac.link.Link(\n",
    "    # rel=pystac.RelType.ROOT, target=pystac.STACObject.from_file(os.path.join(WORKING_DIR, \"stacs/clms_catalog.json\"))\n",
    "    rel=pystac.RelType.ROOT, target=pystac.STACObject.from_file(\"x:\\\\projects\\\\ETC-DI\\\\Task_18\\\\clms-stac\\\\stacs\\\\clms_catalog.json\")\n",
    ")\n",
    "COLLECTION_LINK = pystac.link.Link(\n",
    "    rel=pystac.RelType.COLLECTION,\n",
    "    target=pystac.STACObject.from_file(os.path.join(WORKING_DIR, f\"stacs/{COLLECTION_ID}/{COLLECTION_ID}.json\")),\n",
    ")\n",
    "ITEM_PARENT_LINK = pystac.link.Link(\n",
    "    rel=pystac.RelType.PARENT,\n",
    "    target=pystac.STACObject.from_file(os.path.join(WORKING_DIR, f\"stacs/{COLLECTION_ID}/{COLLECTION_ID}.json\")),\n",
    ")\n",
    "\n",
    "item.set_self_href(os.path.join(WORKING_DIR, f\"{STAC_DIR}/{COLLECTION_ID}/{item.id}/{item.id}.json\"))\n",
    "item.save_object()"
   ]
  },
  {
   "cell_type": "code",
   "execution_count": 2,
   "metadata": {},
   "outputs": [
    {
     "data": {
      "text/plain": [
       "'x:\\\\projects\\\\ETC-DI\\\\Task_18\\\\clms-stac\\\\scripts\\\\clc'"
      ]
     },
     "execution_count": 2,
     "metadata": {},
     "output_type": "execute_result"
    }
   ],
   "source": []
  },
  {
   "cell_type": "code",
   "execution_count": 62,
   "metadata": {},
   "outputs": [],
   "source": [
    "# # Taken from https://stackoverflow.com/questions/2148119/how-to-convert-an-xml-string-to-a-dictionary\n",
    "# from xml.etree import cElementTree as ElementTree\n",
    "\n",
    "\n",
    "# class XmlListConfig(list):\n",
    "#     def __init__(self, aList):\n",
    "#         for element in aList:\n",
    "#             if element:\n",
    "#                 if len(element) == 1 or element[0].tag != element[1].tag:\n",
    "#                     self.append(XmlDictConfig(element))\n",
    "#                 elif element[0].tag == element[1].tag:\n",
    "#                     self.append(XmlListConfig(element))\n",
    "#             elif element.text:\n",
    "#                 text = element.text.strip()\n",
    "#                 if text:\n",
    "#                     self.append(text)\n",
    "\n",
    "\n",
    "# class XmlDictConfig(dict):\n",
    "#     def __init__(self, parent_element):\n",
    "#         if parent_element.items():\n",
    "#             self.update(dict(parent_element.items()))\n",
    "#         for element in parent_element:\n",
    "#             if element:\n",
    "#                 if len(element) == 1 or element[0].tag != element[1].tag:\n",
    "#                     aDict = XmlDictConfig(element)\n",
    "#                 else:\n",
    "#                     aDict = {element[0].tag: XmlListConfig(element)}\n",
    "#                 if element.items():\n",
    "#                     aDict.update(dict(element.items()))\n",
    "#                 self.update({element.tag: aDict})\n",
    "#             elif element.items():\n",
    "#                 self.update({element.tag: dict(element.items())})\n",
    "#             else:\n",
    "#                 self.update({element.tag: element.text})\n",
    "\n",
    "# stac_io = pystac.StacIO.default()\n",
    "\n",
    "# def get_metadata(xml: str):\n",
    "#     result = XmlDictConfig(ElementTree.XML(stac_io.read_text(xml)))\n",
    "#     result[\n",
    "#         \"ORIGINAL_URL\"\n",
    "#     ] = xml  # Include the original URL in the metadata for use later\n",
    "#     return result\n",
    "\n",
    "\n",
    "# xml_path = '../CLC_samples/U2018_CLC2018_V2020_20u1.xml'\n",
    "\n",
    "# get_metadata(xml_path)\n"
   ]
  }
 ],
 "metadata": {
  "kernelspec": {
   "display_name": "stacdev",
   "language": "python",
   "name": "python3"
  },
  "language_info": {
   "codemirror_mode": {
    "name": "ipython",
    "version": 3
   },
   "file_extension": ".py",
   "mimetype": "text/x-python",
   "name": "python",
   "nbconvert_exporter": "python",
   "pygments_lexer": "ipython3",
   "version": "3.12.3"
  }
 },
 "nbformat": 4,
 "nbformat_minor": 2
}
