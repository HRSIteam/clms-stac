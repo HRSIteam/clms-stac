{
 "cells": [
  {
   "cell_type": "code",
   "execution_count": 1,
   "metadata": {},
   "outputs": [],
   "source": [
    "import rasterio as rio\n",
    "from rasterio.warp import Resampling\n",
    "from shapely.geometry import box, mapping\n",
    "from shapely import envelope"
   ]
  },
  {
   "cell_type": "code",
   "execution_count": 2,
   "metadata": {},
   "outputs": [],
   "source": [
    "img_path = 'X:/EO/u2018_clc2018_v2020_20u1_raster100m/DATA/U2018_CLC2018_V2020_20u1.tif'\n",
    "\n",
    "\n",
    "dst_crs = rio.CRS.from_epsg(4326)"
   ]
  },
  {
   "cell_type": "code",
   "execution_count": 60,
   "metadata": {},
   "outputs": [],
   "source": [
    "def project_data_window_bbox(src: rio.open, dst_crs: rio.CRS = rio.CRS.from_epsg(4326)) -> tuple:\n",
    "     data, transform = rio.warp.reproject(source=src.read(),\n",
    "                                          src_transform=src.transform,\n",
    "                                          src_crs=src.crs,\n",
    "                                          dst_crs=dst_crs,\n",
    "                                          dst_nodata=src.nodata,\n",
    "                                          dst_resolution=(0.25, 0.25),\n",
    "                                          resampling=Resampling.max)\n",
    "     \n",
    "     data_window = rio.windows.get_data_window(data, nodata=src.nodata)\n",
    "     bbox = rio.windows.bounds(data_window, transform=transform)\n",
    "     print(data.shape)\n",
    "     # bbox_raw = rio.windows.bounds(data_window, transform=transform)\n",
    "     # bbox_buff = box(*bbox_raw).buffer(0.25 / 2)\n",
    "     # bbox = envelope(bbox_buff).bounds\n",
    "     return(bbox)"
   ]
  },
  {
   "cell_type": "code",
   "execution_count": 3,
   "metadata": {},
   "outputs": [
    {
     "name": "stdout",
     "output_type": "stream",
     "text": [
      "<class 'rasterio.io.DatasetReader'>\n"
     ]
    }
   ],
   "source": [
    "with rio.open(img_path) as src:\n",
    "    print(type(src))\n",
    "    #bbox = project_data_window_bbox(src)\n"
   ]
  },
  {
   "cell_type": "code",
   "execution_count": 14,
   "metadata": {},
   "outputs": [],
   "source": [
    "## To export results for examination in QGIS\n",
    "\n",
    "# profile = src.profile\n",
    "# profile.update(transform=transform, driver='GTiff', height=data.shape[1], width=data.shape[2], crs=rio.CRS.from_epsg(4326))\n",
    "\n",
    "# with rio.open(dst_path, 'w', **profile) as dst:\n",
    "#             dst.write(data)\n",
    "\n",
    "# import geopandas as gpd\n",
    "\n",
    "# x = gpd.GeoSeries(box(*bbox), crs=dst_crs)\n",
    "# x.to_file('X:/EO/u2018_clc2018_v2020_20u1_rio4326_box025max.gpkg')\n"
   ]
  }
 ],
 "metadata": {
  "kernelspec": {
   "display_name": ".venv",
   "language": "python",
   "name": "python3"
  },
  "language_info": {
   "codemirror_mode": {
    "name": "ipython",
    "version": 3
   },
   "file_extension": ".py",
   "mimetype": "text/x-python",
   "name": "python",
   "nbconvert_exporter": "python",
   "pygments_lexer": "ipython3",
   "version": "3.12.3"
  }
 },
 "nbformat": 4,
 "nbformat_minor": 2
}
