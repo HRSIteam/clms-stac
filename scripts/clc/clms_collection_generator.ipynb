{
 "cells": [
  {
   "cell_type": "code",
   "execution_count": 1,
   "metadata": {},
   "outputs": [],
   "source": [
    "import os\n",
    "import re\n",
    "\n",
    "import pystac\n",
    "import pystac.item\n",
    "import pystac.link\n",
    "from pystac.provider import ProviderRole\n",
    "from pystac.extensions.projection import ProjectionExtension\n",
    "\n",
    "from pystac.extensions.item_assets import ItemAssetsExtension, AssetDefinition\n",
    "\n",
    "from datetime import datetime, UTC\n",
    "\n",
    "import rasterio.warp\n"
   ]
  },
  {
   "cell_type": "code",
   "execution_count": 2,
   "metadata": {},
   "outputs": [],
   "source": [
    "from constants import *\n",
    "from item import create_item, get_img_paths"
   ]
  },
  {
   "cell_type": "code",
   "execution_count": 15,
   "metadata": {},
   "outputs": [],
   "source": [
    "def proj_epsg_from_item_asset(item):\n",
    "    for asset_key in item.assets:\n",
    "        asset = item.assets[asset_key].to_dict()\n",
    "        if 'proj:epsg' in asset.keys():\n",
    "            return(asset.get('proj:epsg'))"
   ]
  },
  {
   "cell_type": "code",
   "execution_count": 4,
   "metadata": {},
   "outputs": [],
   "source": [
    "# WORKING_DIR = os.getcwd()\n",
    "# STAC_DIR = 'stac_tests'\n",
    "# COLLECTION_ID = 'corine-land-cover-raster'\n",
    "# COLLECTION_TITLE = 'CORINE Land Cover Raster'\n",
    "# COLLECTION_DESCRIPTION = (\"The European Commission launched the CORINE (Coordination of Information on the Environment) \"\n",
    "#                           \"program in an effort to develop a standardized methodology for producing continent-scale land \"\n",
    "#                           \"cover, biotope, and air quality maps. The CORINE Land Cover (CLC) product offers a pan-European \"\n",
    "#                           \"land cover and land use inventory with 44 thematic classes, ranging from broad forested areas \"\n",
    "#                           \"to individual vineyards.\")\n",
    "# COLLECTION_KEYWORDS =  [\"clms\", \"corine\", \"derived data\", \"land cover\", \"machine learning\", \"open data\"]\n",
    "# COLLECTION_LICENSE = 'proprietary'\n",
    "\n",
    "\n",
    "# CLMS_CATALOG_LINK = pystac.link.Link(\n",
    "#     rel=pystac.RelType.ROOT, target=pystac.STACObject.from_file(os.path.join(WORKING_DIR, \"stacs/clms_catalog.json\"))\n",
    "# )\n",
    "# COLLECTION_LINK = pystac.link.Link(\n",
    "#     rel=pystac.RelType.COLLECTION,\n",
    "#     target=pystac.STACObject.from_file(os.path.join(WORKING_DIR, f\"stacs/{COLLECTION_ID}/{COLLECTION_ID}.json\")),\n",
    "# )\n",
    "# ITEM_PARENT_LINK = pystac.link.Link(\n",
    "#     rel=pystac.RelType.PARENT,\n",
    "#     target=pystac.STACObject.from_file(os.path.join(WORKING_DIR, f\"stacs/{COLLECTION_ID}/{COLLECTION_ID}.json\")),\n",
    "# )"
   ]
  },
  {
   "cell_type": "code",
   "execution_count": 5,
   "metadata": {},
   "outputs": [],
   "source": [
    "data_root = '../CLC_100m'"
   ]
  },
  {
   "cell_type": "code",
   "execution_count": 6,
   "metadata": {},
   "outputs": [],
   "source": [
    "def create_collection(data_root: str):\n",
    "\n",
    "    sp_extent = pystac.SpatialExtent([None, None, None, None])\n",
    "    tmp_extent = pystac.TemporalExtent([datetime(1990, 1, 1, microsecond=0, tzinfo=UTC), None])\n",
    "    extent = pystac.Extent(sp_extent,  tmp_extent)\n",
    "\n",
    "    collection = pystac.Collection(id=COLLECTION_ID,\n",
    "                                description=COLLECTION_DESCRIPTION,\n",
    "                                title=COLLECTION_TITLE,\n",
    "                                extent=extent,\n",
    "                                keywords=COLLECTION_KEYWORDS,\n",
    "                                license=COLLECTION_LICENSE,\n",
    "                                stac_extensions=[]\n",
    "                                )\n",
    "\n",
    "\n",
    "    item_assets = ItemAssetsExtension.ext(collection, add_if_missing=True)\n",
    "    item_assets.item_assets = {\n",
    "        key: AssetDefinition({\"title\": COLLITAS_TITLE_DICT[key].format(label='').strip(),\n",
    "                            \"media_type\": COLLITAS_MEDIA_TYPE_DICT[key], \n",
    "                            \"roles\": COLLITAS_ROLES_DICT[key]})\n",
    "        for key in COLLITAS_TITLE_DICT\n",
    "    }\n",
    "\n",
    "    collection.add_link(CLMS_LICENSE)\n",
    "    collection.set_self_href(os.path.join(WORKING_DIR, f\"{STAC_DIR}/{collection.id}/{collection.id}.json\"))\n",
    "    catalog = pystac.read_file(f\"{WORKING_DIR}/{STAC_DIR}/clms_catalog.json\")\n",
    "\n",
    "    collection.set_root(catalog)\n",
    "    collection.set_parent(catalog)\n",
    "\n",
    "    collection.save_object()\n",
    "\n",
    "    img_paths = get_img_paths(path=data_root)\n",
    "\n",
    "    proj_epsg = []\n",
    "    for img_path in img_paths:\n",
    "        item = create_item(img_path, data_root)\n",
    "        collection.add_item(item)\n",
    "\n",
    "        item_epsg = proj_epsg_from_item_asset(item)\n",
    "        proj_epsg.append(item_epsg)\n",
    "\n",
    "        item.set_self_href(os.path.join(WORKING_DIR, f\"{STAC_DIR}/{COLLECTION_ID}/{item.id}/{item.id}.json\"))\n",
    "        item.save_object()\n",
    "\n",
    "    collection.make_all_asset_hrefs_relative()\n",
    "    collection.update_extent_from_items()\n",
    "    ProjectionExtension.add_to(collection)\n",
    "    collection.summaries = pystac.Summaries({'proj:epsg': list(set(proj_epsg))})\n",
    "\n",
    "    collection.save_object()"
   ]
  }
 ],
 "metadata": {
  "kernelspec": {
   "display_name": "stacdev",
   "language": "python",
   "name": "python3"
  },
  "language_info": {
   "codemirror_mode": {
    "name": "ipython",
    "version": 3
   },
   "file_extension": ".py",
   "mimetype": "text/x-python",
   "name": "python",
   "nbconvert_exporter": "python",
   "pygments_lexer": "ipython3",
   "version": "3.12.3"
  }
 },
 "nbformat": 4,
 "nbformat_minor": 2
}
